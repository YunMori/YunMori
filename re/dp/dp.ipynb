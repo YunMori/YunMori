{
 "cells": [
  {
   "cell_type": "code",
   "execution_count": null,
   "id": "1d57b4b4",
   "metadata": {},
   "outputs": [],
   "source": [
    "#BOJ_2748 05/18 2분 29초\n",
    "N = int(input())\n",
    "dp = [0, 1]\n",
    "for i in range(1, N):\n",
    "    dp.append(dp[i-1] + dp[i])\n",
    "print(dp[N])"
   ]
  },
  {
   "cell_type": "code",
   "execution_count": null,
   "id": "c54c4167",
   "metadata": {},
   "outputs": [],
   "source": [
    "#BOJ_1010 05/18 3분 45초\n",
    "import sys, math\n",
    "# sys.stdin = open('/Users/yunjongseo/Downloads/input (10).txt', 'rt')\n",
    "T = int(sys.stdin.readline())\n",
    "for _ in range(T):\n",
    "    table = list(map(int, sys.stdin.readline().split()))\n",
    "    answer = math.comb(max(table), min(table))\n",
    "    print(answer)"
   ]
  },
  {
   "cell_type": "code",
   "execution_count": null,
   "id": "2bae8f1e",
   "metadata": {},
   "outputs": [],
   "source": [
    "#BOJ_2839 05/18 40분 56초\n",
    "from collections import deque\n",
    "def solution(Y):\n",
    "    global cnt\n",
    "    Q = deque([0, 0])\n",
    "    while Q:\n",
    "        for _ in range(len(Q)):\n",
    "            x = Q.popleft()\n",
    "            if x > Y:\n",
    "                return\n",
    "            visit[x] = cnt\n",
    "            a, b = x+5, x+3\n",
    "            if a <= Y and visit[a] == -1:\n",
    "                Q.append(a)\n",
    "            if b <= Y and visit[b] == -1:\n",
    "                Q.append(b)\n",
    "        cnt += 1\n",
    "Y = int(input())\n",
    "cnt = 0\n",
    "visit = [-1]*(Y+1)\n",
    "solution(Y)\n",
    "print(visit[Y])"
   ]
  },
  {
   "cell_type": "code",
   "execution_count": null,
   "id": "58279631",
   "metadata": {},
   "outputs": [],
   "source": [
    "#BOJ_1003 05/18 17분 59초\n",
    "import sys\n",
    "# sys.stdin = open('/Users/yunjongseo/Downloads/input (10).txt', 'rt')\n",
    "T = int(sys.stdin.readline())\n",
    "for _ in range(T):\n",
    "    N = int(sys.stdin.readline())\n",
    "    dp = [[1, 0], [0, 1]]\n",
    "    if N >= 2:\n",
    "        for i in range(1, N+1):\n",
    "            a = dp[i-1][0]+dp[i][0]\n",
    "            b = dp[i-1][1]+dp[i][1]\n",
    "            dp.append([a, b])\n",
    "        print(dp[N][0], dp[N][1])\n",
    "    else:\n",
    "        print(dp[N][0], dp[N][1])"
   ]
  },
  {
   "cell_type": "code",
   "execution_count": null,
   "id": "142aadc0",
   "metadata": {},
   "outputs": [],
   "source": [
    "#BOJ_1463 05/18 4분 53초\n",
    "def solution(x):\n",
    "    global cnt\n",
    "    Q = deque([x])\n",
    "    while Q:\n",
    "        for _ in range(len(Q)):\n",
    "            x = Q.popleft()\n",
    "            if x == 1:\n",
    "                return\n",
    "            if x%3 == 0:\n",
    "                Q.append(x//3)\n",
    "            if x%2 == 0:\n",
    "                Q.append(x//2)\n",
    "            Q.append(x-1)\n",
    "        cnt += 1\n",
    "\n",
    "from collections import deque\n",
    "X = int(input())\n",
    "cnt = 0\n",
    "solution(X)\n",
    "print(cnt)\n"
   ]
  },
  {
   "cell_type": "code",
   "execution_count": null,
   "id": "f531a016",
   "metadata": {},
   "outputs": [],
   "source": [
    "#BOJ_1788 05/18 34분 49초\n",
    "#음수라고 어렵게 생각하기 금지\n",
    "N = int(input())\n",
    "dp = [0, 1]\n",
    "if abs(N) > 1:\n",
    "    for i in range(1, abs(N)):\n",
    "        dp.append(abs(dp[i] + dp[i-1])%1000000000)\n",
    "if N < 0:\n",
    "    if abs(N)%2 == 0:\n",
    "        print(-1)\n",
    "    else:\n",
    "        print(1)\n",
    "    print(dp[-1])\n",
    "elif N > 0:\n",
    "    print(1)\n",
    "    print(dp[-1])\n",
    "else:\n",
    "    print(0)\n",
    "    print(0)"
   ]
  },
  {
   "cell_type": "code",
   "execution_count": null,
   "id": "4ad66122",
   "metadata": {},
   "outputs": [],
   "source": [
    "#BOJ_1940 05/19 26분 11초\n",
    "N = int(input())\n",
    "dp = [0]*(1000001)\n",
    "dp[1], dp[2], dp[3], dp[4] = 1, 2, 3, 5\n",
    "if N > 4:\n",
    "    for i in range(5, N+1):\n",
    "        dp[i] = (dp[i-1] + dp[i-2])%15746\n",
    "    print(dp[N])\n",
    "else:\n",
    "    print(dp[N])"
   ]
  },
  {
   "cell_type": "code",
   "execution_count": null,
   "id": "5cda8684",
   "metadata": {},
   "outputs": [],
   "source": [
    "8"
   ]
  }
 ],
 "metadata": {
  "kernelspec": {
   "display_name": "base",
   "language": "python",
   "name": "python3"
  },
  "language_info": {
   "codemirror_mode": {
    "name": "ipython",
    "version": 3
   },
   "file_extension": ".py",
   "mimetype": "text/x-python",
   "name": "python",
   "nbconvert_exporter": "python",
   "pygments_lexer": "ipython3",
   "version": "3.11.5"
  }
 },
 "nbformat": 4,
 "nbformat_minor": 5
}
