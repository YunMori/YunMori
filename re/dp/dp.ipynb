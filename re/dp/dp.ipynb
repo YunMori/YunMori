{
 "cells": [
  {
   "cell_type": "code",
   "execution_count": null,
   "id": "1d57b4b4",
   "metadata": {},
   "outputs": [],
   "source": [
    "#BOJ_2748 05/18 2분 29초\n",
    "N = int(input())\n",
    "dp = [0, 1]\n",
    "for i in range(1, N):\n",
    "    dp.append(dp[i-1] + dp[i])\n",
    "print(dp[N])"
   ]
  },
  {
   "cell_type": "code",
   "execution_count": null,
   "id": "c54c4167",
   "metadata": {},
   "outputs": [],
   "source": [
    "#BOJ_1010 05/18 3분 45초\n",
    "import sys, math\n",
    "# sys.stdin = open('/Users/yunjongseo/Downloads/input (10).txt', 'rt')\n",
    "T = int(sys.stdin.readline())\n",
    "for _ in range(T):\n",
    "    table = list(map(int, sys.stdin.readline().split()))\n",
    "    answer = math.comb(max(table), min(table))\n",
    "    print(answer)"
   ]
  },
  {
   "cell_type": "code",
   "execution_count": null,
   "id": "2bae8f1e",
   "metadata": {},
   "outputs": [],
   "source": [
    "#BOJ_2839 05/18 40분 56초\n",
    "from collections import deque\n",
    "def solution(Y):\n",
    "    global cnt\n",
    "    Q = deque([0, 0])\n",
    "    while Q:\n",
    "        for _ in range(len(Q)):\n",
    "            x = Q.popleft()\n",
    "            if x > Y:\n",
    "                return\n",
    "            visit[x] = cnt\n",
    "            a, b = x+5, x+3\n",
    "            if a <= Y and visit[a] == -1:\n",
    "                Q.append(a)\n",
    "            if b <= Y and visit[b] == -1:\n",
    "                Q.append(b)\n",
    "        cnt += 1\n",
    "Y = int(input())\n",
    "cnt = 0\n",
    "visit = [-1]*(Y+1)\n",
    "solution(Y)\n",
    "print(visit[Y])"
   ]
  },
  {
   "cell_type": "code",
   "execution_count": null,
   "id": "58279631",
   "metadata": {},
   "outputs": [],
   "source": [
    "#BOJ_1003 05/18 17분 59초\n",
    "import sys\n",
    "# sys.stdin = open('/Users/yunjongseo/Downloads/input (10).txt', 'rt')\n",
    "T = int(sys.stdin.readline())\n",
    "for _ in range(T):\n",
    "    N = int(sys.stdin.readline())\n",
    "    dp = [[1, 0], [0, 1]]\n",
    "    if N >= 2:\n",
    "        for i in range(1, N+1):\n",
    "            a = dp[i-1][0]+dp[i][0]\n",
    "            b = dp[i-1][1]+dp[i][1]\n",
    "            dp.append([a, b])\n",
    "        print(dp[N][0], dp[N][1])\n",
    "    else:\n",
    "        print(dp[N][0], dp[N][1])"
   ]
  },
  {
   "cell_type": "code",
   "execution_count": null,
   "id": "142aadc0",
   "metadata": {},
   "outputs": [],
   "source": [
    "#BOJ_1463 05/18 4분 53초\n",
    "def solution(x):\n",
    "    global cnt\n",
    "    Q = deque([x])\n",
    "    while Q:\n",
    "        for _ in range(len(Q)):\n",
    "            x = Q.popleft()\n",
    "            if x == 1:\n",
    "                return\n",
    "            if x%3 == 0:\n",
    "                Q.append(x//3)\n",
    "            if x%2 == 0:\n",
    "                Q.append(x//2)\n",
    "            Q.append(x-1)\n",
    "        cnt += 1\n",
    "\n",
    "from collections import deque\n",
    "X = int(input())\n",
    "cnt = 0\n",
    "solution(X)\n",
    "print(cnt)\n"
   ]
  },
  {
   "cell_type": "code",
   "execution_count": null,
   "id": "f531a016",
   "metadata": {},
   "outputs": [],
   "source": [
    "#BOJ_1788 05/18 34분 49초\n",
    "#음수라고 어렵게 생각하기 금지\n",
    "N = int(input())\n",
    "dp = [0, 1]\n",
    "if abs(N) > 1:\n",
    "    for i in range(1, abs(N)):\n",
    "        dp.append(abs(dp[i] + dp[i-1])%1000000000)\n",
    "if N < 0:\n",
    "    if abs(N)%2 == 0:\n",
    "        print(-1)\n",
    "    else:\n",
    "        print(1)\n",
    "    print(dp[-1])\n",
    "elif N > 0:\n",
    "    print(1)\n",
    "    print(dp[-1])\n",
    "else:\n",
    "    print(0)\n",
    "    print(0)"
   ]
  },
  {
   "cell_type": "code",
   "execution_count": null,
   "id": "4ad66122",
   "metadata": {},
   "outputs": [],
   "source": [
    "#BOJ_1940 05/19 26분 11초\n",
    "N = int(input())\n",
    "dp = [0]*(1000001)\n",
    "dp[1], dp[2], dp[3], dp[4] = 1, 2, 3, 5\n",
    "if N > 4:\n",
    "    for i in range(5, N+1):\n",
    "        dp[i] = (dp[i-1] + dp[i-2])%15746\n",
    "    print(dp[N])\n",
    "else:\n",
    "    print(dp[N])"
   ]
  },
  {
   "cell_type": "code",
   "execution_count": null,
   "id": "35b4cdef",
   "metadata": {},
   "outputs": [],
   "source": [
    "#BOJ_2193 05/19 6분 35초\n",
    "N = int(input())\n",
    "dp = [0]*(91)\n",
    "dp[1], dp[2], dp[3], dp[4] = 1, 1, 2, 3\n",
    "if N > 4:\n",
    "    for i in range(5, N+1):\n",
    "        dp[i] = dp[i-1] + dp[i-2]\n",
    "    print(dp[N])\n",
    "else:\n",
    "    print(dp[N])"
   ]
  },
  {
   "cell_type": "code",
   "execution_count": null,
   "id": "5cda8684",
   "metadata": {},
   "outputs": [],
   "source": [
    "#BOJ_2579 05/19 28분 51초\n",
    "import sys\n",
    "# sys.stdin = open('/Users/yunjongseo/Downloads/input (10).txt', 'rt')\n",
    "N = int(sys.stdin.readline())\n",
    "step = [0] + [int(sys.stdin.readline()) for _ in range(N)]\n",
    "if N >= 3:\n",
    "    dp = [0]*(N+1)\n",
    "    dp[1] = step[1]\n",
    "    dp[2] = step[1] + step[2]\n",
    "    dp[3] = max(step[2] + step[3], step[1]+step[3])\n",
    "    for i in range(4, N+1):\n",
    "        dp[i] = max(step[i-1]+dp[i-3]+step[i], dp[i-2] + step[i])\n",
    "    print(dp[N])\n",
    "if N == 1:\n",
    "    print(step[1])\n",
    "if N == 2:\n",
    "    print(step[1]+step[2])\n"
   ]
  },
  {
   "cell_type": "code",
   "execution_count": null,
   "id": "8c54b3b8",
   "metadata": {},
   "outputs": [],
   "source": [
    "#BOJ_9095 05/19 14분 20초\n",
    "import sys\n",
    "# sys.stdin = open('/Users/yunjongseo/Downloads/output (1).txt', 'rt')\n",
    "T = int(sys.stdin.readline())\n",
    "for _ in range(T):\n",
    "    n = int(sys.stdin.readline())\n",
    "    dp = [1, 1, 2, 4, 7, 0, 0, 0, 0, 0, 0, 0]\n",
    "    if n > 4:\n",
    "        for i in range(5, n+1):\n",
    "            dp[i] = dp[i-1]+dp[i-2]+dp[i-3]\n",
    "        print(dp[n])\n",
    "    else:\n",
    "        print(dp[n])"
   ]
  },
  {
   "cell_type": "code",
   "execution_count": null,
   "id": "8939b2af",
   "metadata": {},
   "outputs": [],
   "source": [
    "#BOJ_9461 05/19 6분 38초\n",
    "import sys\n",
    "# sys.stdin = open('/Users/yunjongseo/Downloads/output (1).txt')\n",
    "T = int(sys.stdin.readline())\n",
    "P = [0]*101\n",
    "P[1], P[2], P[3], P[4], P[5], P[6], P[7], P[8], P[9], P[10] = 1, 1, 1, 2, 2, 3, 4, 5, 7, 9\n",
    "for _ in range(T):\n",
    "    N = int(sys.stdin.readline())\n",
    "    if N <= 10:\n",
    "        print(P[N])\n",
    "    else:\n",
    "        for i in range(10, N+1):\n",
    "            P[i] = P[i-1] + P[i-5]\n",
    "        print(P[N])\n"
   ]
  },
  {
   "cell_type": "code",
   "execution_count": null,
   "id": "749ba86c",
   "metadata": {},
   "outputs": [],
   "source": [
    "#BOJ_11726 05/19 5분 6초\n",
    "n=int(input())\n",
    "dp = [0]*1001\n",
    "dp[0], dp[1], dp[2] = 1, 1, 2\n",
    "for i in range(3, n+1):\n",
    "    dp[i] = (dp[i-1]+dp[i-2])%10007\n",
    "print(dp[n])"
   ]
  },
  {
   "cell_type": "code",
   "execution_count": null,
   "id": "ffa5519c",
   "metadata": {},
   "outputs": [
    {
     "name": "stdout",
     "output_type": "stream",
     "text": [
      "1\n"
     ]
    }
   ],
   "source": [
    "#BOJ_11727 05/20 1시간 over\n",
    "n = int(input())\n",
    "dp = [0]*(n+1)\n",
    "dp[0], dp[1] = 1, 1\n",
    "for i in range(2, n+1):\n",
    "    dp[i] = (dp[i-1]+(dp[i-2]*2))%10007\n",
    "print(dp[n])"
   ]
  },
  {
   "cell_type": "code",
   "execution_count": null,
   "id": "4b9063c9",
   "metadata": {},
   "outputs": [
    {
     "name": "stdout",
     "output_type": "stream",
     "text": [
      "20\n"
     ]
    }
   ],
   "source": [
    "#BOJ_14501 05/20 1시간 over\n",
    "import sys\n",
    "# sys.stdin = open('/Users/yunjongseo/Downloads/output (1).txt')\n",
    "N = int(sys.stdin.readline())\n",
    "T = []\n",
    "P = []\n",
    "for i in range(N):\n",
    "    t, p = map(int,sys.stdin.readline().split())\n",
    "    T.append(t)\n",
    "    P.append(p)\n",
    "dp = [0]*(N+1)\n",
    "for i in range(N):\n",
    "    dp[i] = max(dp[i], dp[i-1])\n",
    "    if T[i]+i > N:\n",
    "        continue\n",
    "    dp[T[i]+i] = max(dp[T[i]+i], dp[i]+P[i])\n",
    "print(max(dp))\n"
   ]
  },
  {
   "cell_type": "code",
   "execution_count": 262,
   "id": "e5df345b",
   "metadata": {},
   "outputs": [
    {
     "name": "stdout",
     "output_type": "stream",
     "text": [
      "33\n"
     ]
    }
   ],
   "source": [
    "#BOJ_1912 05/21 20분 22초\n",
    "import sys\n",
    "sys.stdin = open('/Users/yunjongseo/Downloads/output (1).txt', 'rt')\n",
    "n = int(sys.stdin.readline())\n",
    "arr = list(map(int, sys.stdin.readline().split()))\n",
    "dp = [0]*n\n",
    "dp[0] = arr[0]\n",
    "for i in range(1, n):\n",
    "    dp[i] = max(dp[i-1]+arr[i], arr[i])\n",
    "print(max(dp))\n",
    "#카데인 알고리즘(연속합)\n",
    "# n = int(input())\n",
    "# arr = list(map(int, input().split()))\n",
    "# cur_sum, max_sum = 0, arr[0]\n",
    "# for i in range(n):\n",
    "#     cur_sum = max(cur_sum+arr[i], arr[i])\n",
    "#     max_sum = max(cur_sum, max_sum)\n",
    "# print(max_sum)"
   ]
  },
  {
   "cell_type": "code",
   "execution_count": null,
   "id": "03d2b52a",
   "metadata": {},
   "outputs": [
    {
     "name": "stdout",
     "output_type": "stream",
     "text": [
      "10\n"
     ]
    }
   ],
   "source": [
    "#BOJ_11051 05/21 1분 34초\n",
    "import math\n",
    "N, K = map(int, input().split())\n",
    "answer = math.comb(N, K)%10007\n",
    "print(answer)"
   ]
  },
  {
   "cell_type": "code",
   "execution_count": null,
   "id": "1a4fc0e1",
   "metadata": {},
   "outputs": [
    {
     "name": "stdout",
     "output_type": "stream",
     "text": [
      "4\n"
     ]
    }
   ],
   "source": [
    "#BOJ_11053 05/21 4분 43초\n",
    "import sys, bisect\n",
    "# sys.stdin = open('/Users/yunjongseo/Downloads/output (1).txt', 'rt')\n",
    "N = int(sys.stdin.readline())\n",
    "A = list(map(int, sys.stdin.readline().split()))\n",
    "stack = []\n",
    "for i in range(N):\n",
    "    x = bisect.bisect_left(stack, A[i])\n",
    "    if x == len(stack):\n",
    "        stack.append(A[i])\n",
    "    else:\n",
    "        stack[x] = A[i]\n",
    "print(len(stack))"
   ]
  },
  {
   "cell_type": "code",
   "execution_count": null,
   "id": "4263bf68",
   "metadata": {},
   "outputs": [],
   "source": []
  }
 ],
 "metadata": {
  "kernelspec": {
   "display_name": "base",
   "language": "python",
   "name": "python3"
  },
  "language_info": {
   "codemirror_mode": {
    "name": "ipython",
    "version": 3
   },
   "file_extension": ".py",
   "mimetype": "text/x-python",
   "name": "python",
   "nbconvert_exporter": "python",
   "pygments_lexer": "ipython3",
   "version": "3.11.5"
  }
 },
 "nbformat": 4,
 "nbformat_minor": 5
}
