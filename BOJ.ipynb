{
 "cells": [
  {
   "cell_type": "code",
   "execution_count": null,
   "metadata": {},
   "outputs": [],
   "source": [
    "S = input()\n",
    "A = [-1]*26\n",
    "for i in range(len(S)):\n",
    "    N = ord(S[i])-ord('a')\n",
    "    if A[N] == -1 :\n",
    "         A[N] = i\n",
    "print(' '.join(map(str,A)))\n"
   ]
  },
  {
   "cell_type": "code",
   "execution_count": null,
   "metadata": {},
   "outputs": [],
   "source": [
    "S = input()\n",
    "A = [-1] * 26  # 알파벳 소문자 수(26)만큼 -1로 초기화된 리스트 생성\n",
    "\n",
    "for i in range(len(S)):\n",
    "    N = ord(S[i]) - ord('a')  # 문자에 해당하는 인덱스 계산\n",
    "\n",
    "    if A[N] == -1:\n",
    "        A[N] = i\n",
    "\n",
    "print(' '.join(map(str, A)))\n"
   ]
  },
  {
   "cell_type": "code",
   "execution_count": null,
   "metadata": {},
   "outputs": [],
   "source": [
    "S = input()\n",
    "A = [-1] * 26  # 알파벳 소문자 수(26)만큼 -1로 초기화된 리스트 생성\n",
    "\n",
    "for i in range(len(S)):\n",
    "    N = ord(S[i]) - ord('a')  # 문자에 해당하는 인덱스 계산\n",
    "\n",
    "    if A[N] == -1:\n",
    "        A[N] = i\n",
    "\n",
    "# 결과 리스트 생성\n",
    "result = []\n",
    "for i in range(26):\n",
    "    result.append(str(A[i]))\n",
    "\n",
    "print(' '.join(result))\n"
   ]
  },
  {
   "cell_type": "code",
   "execution_count": null,
   "metadata": {},
   "outputs": [],
   "source": [
    "T = int(input())\n",
    "for _ in range(T):\n",
    "    A = []\n",
    "    R, S = input().split()\n",
    "    for i in range(len(S)):\n",
    "        A.append(S[i]*int(R))\n",
    "    print(''.join(map(str,A)))\n"
   ]
  },
  {
   "cell_type": "code",
   "execution_count": null,
   "metadata": {},
   "outputs": [],
   "source": [
    "S = input().split()\n",
    "\n",
    "print(len(S))\n"
   ]
  },
  {
   "cell_type": "code",
   "execution_count": null,
   "metadata": {},
   "outputs": [],
   "source": [
    "A, B = map(str,input().split())\n",
    "rA = A[::-1]\n",
    "rB = B[::-1]\n",
    "rA = int(rA)\n",
    "rB = int(rB)\n",
    "if rA>rB :\n",
    "    print(rA)\n",
    "else:\n",
    "    print(rB)"
   ]
  },
  {
   "cell_type": "code",
   "execution_count": null,
   "metadata": {},
   "outputs": [],
   "source": [
    "I = input()\n",
    "Y = []\n",
    "for i in range(len(I)):\n",
    "    A = I[i-1]\n",
    "    if A in 'ABC' :\n",
    "        A = 3\n",
    "    elif A in 'DEF':\n",
    "        A = 4\n",
    "    elif A in 'GHI' :\n",
    "        A = 5\n",
    "    elif A in 'JKL' :\n",
    "        A = 6\n",
    "    elif A in 'MNO':\n",
    "        A = 7\n",
    "    elif A in 'PQRS':\n",
    "        A =8\n",
    "    elif A in 'TUV':\n",
    "        A =9\n",
    "    elif A in 'WXYZ':\n",
    "        A = 10\n",
    "    Y.append(int(A))\n",
    "print(sum(Y))\n"
   ]
  },
  {
   "cell_type": "code",
   "execution_count": null,
   "metadata": {},
   "outputs": [],
   "source": [
    "while True :\n",
    "    try :\n",
    "        print(input())\n",
    "    except EOFError:\n",
    "        break\n",
    "\n"
   ]
  },
  {
   "cell_type": "code",
   "execution_count": null,
   "metadata": {},
   "outputs": [],
   "source": []
  },
  {
   "cell_type": "code",
   "execution_count": null,
   "metadata": {},
   "outputs": [],
   "source": [
    "print('         ,r'\"7')"
   ]
  },
  {
   "cell_type": "code",
   "execution_count": null,
   "metadata": {},
   "outputs": [],
   "source": [
    "K,Q,B,L,N,P = map(int, input().split())\n",
    "K2=1-K\n",
    "Q2 = 1-Q\n",
    "L2 = 2-L\n",
    "B2 = 2-B\n",
    "N2 = 2-N\n",
    "P2 = 8-P\n",
    "print(K2,Q2,B2,L2,N2,P2)"
   ]
  },
  {
   "cell_type": "code",
   "execution_count": null,
   "metadata": {},
   "outputs": [],
   "source": [
    "N = int(input())\n",
    "A = '*'\n",
    "for i in range(2*N-1):\n",
    "    "
   ]
  },
  {
   "cell_type": "code",
   "execution_count": null,
   "metadata": {},
   "outputs": [],
   "source": [
    "A =\"\"\"         ,r'\"7\n",
    "r`-_   ,'  ,/\n",
    " \\. \". L_r'\n",
    "   `~\\/\n",
    "      |\n",
    "      |\"\"\"\n",
    "print(A)"
   ]
  },
  {
   "cell_type": "code",
   "execution_count": null,
   "metadata": {},
   "outputs": [],
   "source": [
    "N = int(input())\n",
    "for i in range(N):\n",
    "    print(' '*(),'*')\n",
    "    "
   ]
  },
  {
   "cell_type": "code",
   "execution_count": null,
   "metadata": {},
   "outputs": [],
   "source": [
    "A,B = map(int, input().split())\n",
    "print(A//B)\n",
    "print(A%B)"
   ]
  },
  {
   "cell_type": "code",
   "execution_count": null,
   "metadata": {},
   "outputs": [],
   "source": [
    "B = int(input())\n",
    "A = (10*B)//11\n",
    "print (A)"
   ]
  },
  {
   "cell_type": "code",
   "execution_count": null,
   "metadata": {},
   "outputs": [],
   "source": [
    "W,H = map(int, input().split())\n",
    "print(round((W*H)/2,1))"
   ]
  },
  {
   "cell_type": "code",
   "execution_count": null,
   "metadata": {},
   "outputs": [],
   "source": [
    "N = int(input())\n",
    "S = ['Never gonna give you up','Never gonna let you down','Never gonna run around and desert you','Never gonna make you cry','Never gonna say goodbye','Never gonna tell a lie and hurt you','Never gonna stop']\n",
    "A = []\n",
    "for _ in range(N):\n",
    "    S1 = input()\n",
    "    A.append(S1)\n",
    "print(A)\n",
    "if A  in S :\n",
    "    print('No')\n",
    "else:\n",
    "    print('Yes')"
   ]
  },
  {
   "cell_type": "code",
   "execution_count": null,
   "metadata": {},
   "outputs": [],
   "source": [
    "N = int(input())\n",
    "A = list(map(int,input().split()))\n",
    "B = list(map(int,input().split()))\n",
    "Q = 0\n",
    "for i in range(N):\n",
    "    if A[i]<=B[i]:\n",
    "        Q+=1\n",
    "\n",
    "print(Q)"
   ]
  },
  {
   "cell_type": "code",
   "execution_count": null,
   "metadata": {},
   "outputs": [],
   "source": [
    "N = int(input())\n",
    "for i in range(N):\n",
    "    print(' '*(N-i-1),'*'*(2*i+1))\n",
    "for i in range(N-1,0,-1):\n",
    "    print(' '*(N-i),'*'*(2*i-1))"
   ]
  },
  {
   "cell_type": "code",
   "execution_count": null,
   "metadata": {},
   "outputs": [],
   "source": [
    "N = input()\n",
    "if len(N) == 1 :\n",
    "    print(0)\n",
    "if (N[i] == N[len(N)- i-1] for i in range(len(N))) :\n",
    "        A = 1\n",
    "else :\n",
    "        A = 0\n",
    "print(A)"
   ]
  },
  {
   "cell_type": "code",
   "execution_count": null,
   "metadata": {},
   "outputs": [],
   "source": [
    "for i in range(len(N)):\n",
    "   if N[i] == N[len(N)-i-1]:\n",
    "      print(1)\n",
    "   else :\n",
    "      print(0)"
   ]
  },
  {
   "cell_type": "code",
   "execution_count": null,
   "metadata": {},
   "outputs": [],
   "source": [
    "N = input()\n",
    "if len(N) == 1:\n",
    "    A = 0\n",
    "elif (N[i] == N[len(N)-i-1] for i in range(len(N))) :\n",
    "    A = 1\n",
    "else : \n",
    "    A =0\n",
    "print (A)"
   ]
  },
  {
   "cell_type": "code",
   "execution_count": null,
   "metadata": {},
   "outputs": [],
   "source": [
    "# 입력 받기\n",
    "word = input().strip()  # 입력 문자열을 받고 양쪽 공백 제거\n",
    "\n",
    "# 문자열을 뒤집어서 뒤집은 문자열을 만듭니다.\n",
    "reversed_word = word[::-1]\n",
    "\n",
    "# 원본 문자열과 뒤집은 문자열이 같으면 팰린드롬이고, 다르면 팰린드롬이 아닙니다.\n",
    "if word == reversed_word:\n",
    "    print(1)\n",
    "else:\n",
    "    print(0)\n"
   ]
  },
  {
   "cell_type": "markdown",
   "metadata": {},
   "source": []
  },
  {
   "cell_type": "code",
   "execution_count": null,
   "metadata": {},
   "outputs": [],
   "source": [
    "N = input()\n",
    "if N[::] == N[::-1]:\n",
    "    print(1)\n",
    "else :\n",
    "    print(0)"
   ]
  },
  {
   "cell_type": "code",
   "execution_count": null,
   "metadata": {},
   "outputs": [],
   "source": [
    "#H,W = 케이크 가로 세로 N = 친구 수\n",
    "H,W,N = map(int,input().split())\n",
    "B = []\n",
    "for _ in range(H):\n",
    "    A = list(map(int,input().split()))\n",
    "    B.append(A)\n",
    "\n"
   ]
  },
  {
   "cell_type": "code",
   "execution_count": null,
   "metadata": {},
   "outputs": [],
   "source": [
    "A = input().lower\n",
    "for i in A:\n",
    "    \n"
   ]
  },
  {
   "cell_type": "code",
   "execution_count": null,
   "metadata": {},
   "outputs": [],
   "source": [
    "import sys\n",
    "N = int(input())\n",
    "A = set(sys.stdin.readline().split())\n",
    "M = int(input())\n",
    "B = list(sys.stdin.readline().split())\n",
    "for i in B:\n",
    "    if i in A:\n",
    "        print(1)\n",
    "    else:\n",
    "        print(0)"
   ]
  },
  {
   "cell_type": "code",
   "execution_count": null,
   "metadata": {},
   "outputs": [],
   "source": [
    "N,M = map(int,input().split())\n",
    "for i in range(N):\n",
    "    A = list(map(int,input().split()))\n",
    "\n"
   ]
  },
  {
   "cell_type": "code",
   "execution_count": null,
   "metadata": {},
   "outputs": [],
   "source": [
    "H = 'c=','c-',' dz=' ,'d-' ,'lj' ,'nj' ,'s=' ,'z='\n",
    "A = input()\n",
    "if 'dz=' in A:\n",
    "   A = A.replace('dz=','*')\n",
    "   for i in H:\n",
    "    A=A.replace(i,'*')\n",
    "else:\n",
    "    for i in H:\n",
    "        A=A.replace(i,'*')\n",
    "print(len(A))\n"
   ]
  },
  {
   "cell_type": "code",
   "execution_count": null,
   "metadata": {},
   "outputs": [],
   "source": [
    "N,M = map(int,input().split())\n",
    "for _ in range(M):\n",
    "    C = []*N\n",
    "    D = []*N\n",
    "    G = []*N\n",
    "for _ in range(M) :\n",
    "    A = list(input().split())\n",
    "    C.append(A)\n",
    "for _ in range(M) :\n",
    "    B = list(input().split())\n",
    "    D.append(B)\n",
    "for i in range(M):\n",
    "    for z in range(N):\n",
    "        G.append(int(C[i][z])+int(D[i][z]))\n",
    "print(G)\n"
   ]
  },
  {
   "cell_type": "code",
   "execution_count": null,
   "metadata": {},
   "outputs": [],
   "source": [
    "N,M = map(int,input().split())\n",
    "A = [input().split()for _ in range(N)]\n",
    "B = [input().split()for _ in range(N)]\n",
    "C = []\n",
    "for a in range(N):\n",
    "    for i in range(M):\n",
    "        C.append(int(A[a][i])+int(B[a][i]))\n",
    "print(' '.join(map(str, C)))"
   ]
  },
  {
   "cell_type": "code",
   "execution_count": null,
   "metadata": {},
   "outputs": [],
   "source": [
    "S = ['Never gonna give you up','Never gonna let you down','Never gonna run around and desert you','Never gonna make you cry','Never gonna say goodbye','Never gonna tell a lie and hurt you','Never gonna stop']\n",
    "N = int(input())\n",
    "C = 0\n",
    "A = [input()for _ in range(N)]\n",
    "for i in A:\n",
    "    if i not in S:\n",
    "        C+=1\n",
    "if C>0:\n",
    "    print('Yes')\n",
    "else:\n",
    "    print('No')\n"
   ]
  },
  {
   "cell_type": "code",
   "execution_count": null,
   "metadata": {},
   "outputs": [],
   "source": [
    "N = int(input())\n",
    "C = N//5+(N%5)//3\n",
    "if N/5/3>1:\n",
    "    print(C)\n",
    "else:\n",
    "    print(-1)"
   ]
  },
  {
   "cell_type": "code",
   "execution_count": null,
   "metadata": {},
   "outputs": [],
   "source": [
    "#1316\n",
    "N = int(input())\n",
    "for i in range(N):\n",
    "    W = input()\n",
    "    for a in W:\n",
    "        W.find(a)\n",
    "        \n",
    "        \n",
    "print(W)"
   ]
  },
  {
   "cell_type": "code",
   "execution_count": null,
   "metadata": {},
   "outputs": [],
   "source": [
    "#2839\n",
    "N = int(input())\n",
    "\n",
    "for ct_5 in range(N//5,-1,-1):\n",
    "    ct_3 = (N-ct_5*5)//3\n",
    "    if ct_5*5+ct_3*3==N:\n",
    "        print(ct_3+ct_5)\n",
    "        break\n",
    "else:\n",
    "    print(-1)\n",
    "#최소값을 구하는 것이기 때문에 5부터 카운트 시작"
   ]
  },
  {
   "cell_type": "code",
   "execution_count": 17,
   "metadata": {},
   "outputs": [
    {
     "name": "stdout",
     "output_type": "stream",
     "text": [
      "<class 'int'>\n"
     ]
    }
   ],
   "source": [
    "#2749\n",
    "mod = int(1000000)\n",
    "p = int(mod / 10 * 15)\n",
    "\n"
   ]
  },
  {
   "cell_type": "markdown",
   "metadata": {},
   "source": []
  },
  {
   "cell_type": "code",
   "execution_count": null,
   "metadata": {},
   "outputs": [],
   "source": [
    "#프로그래머스(소수만들기)\n",
    "from itertools import combinations as cb\n",
    "import math\n",
    "nums = [1,2,7,6,4]\n",
    "def solution(nums):\n",
    "    answer = 0\n",
    "    for i in cb(nums,3):\n",
    "        a = sum(i)\n",
    "        b = int(math.sqrt(a))\n",
    "        for x in range(2,b+1):\n",
    "            if a%x==0:\n",
    "                break\n",
    "        else:\n",
    "            answer+=1\n",
    "    return answer\n",
    "\n",
    "print(solution(nums))"
   ]
  },
  {
   "cell_type": "code",
   "execution_count": null,
   "metadata": {},
   "outputs": [],
   "source": [
    "#프로그래머스(영어 끝말잇기)\n",
    "words = [\"tank\", \"kick\", \"know\", \"wheel\", \"land\", \"dream\", \"mother\", \"robot\", \"tank\"]\n",
    "n = 3\n",
    "for i in range(len(words)):\n",
    "    if i[-1]!=i+1[0]:\n",
    "        False\n",
    "    else : \n",
    "        True\n",
    "#def solution(n, words):\n",
    "    #for i in range(len(words)):\n",
    "        #print(i)\n",
    "    #answer = []\n",
    "    \n",
    "    #return answer\n"
   ]
  },
  {
   "cell_type": "code",
   "execution_count": null,
   "metadata": {},
   "outputs": [],
   "source": [
    "#1463\n",
    "N = int(input())\n",
    "dp = [0] * (N + 1)\n",
    "\n",
    "for i in range(2, N + 1):\n",
    "    dp[i] = dp[i - 1] + 1\n",
    "    if i % 2 == 0:\n",
    "        dp[i] = min(dp[i], dp[i // 2] + 1)\n",
    "    if i % 3 == 0:\n",
    "        dp[i] = min(dp[i], dp[i // 3] + 1)\n",
    "\n",
    "print(dp[N]) \n"
   ]
  },
  {
   "cell_type": "code",
   "execution_count": null,
   "metadata": {},
   "outputs": [],
   "source": [
    "#9095\n",
    "N = int(input())\n"
   ]
  },
  {
   "cell_type": "code",
   "execution_count": 129,
   "metadata": {},
   "outputs": [
    {
     "name": "stdout",
     "output_type": "stream",
     "text": [
      "NO BRAINS\n"
     ]
    }
   ],
   "source": [
    "# 4562\n",
    "N = int(input())\n",
    "\n",
    "for _ in range(N):\n",
    "    A, B = map(int, input().split())\n",
    "    if A >= B:\n",
    "        print('MMM BRAINS')\n",
    "    else:\n",
    "        print('NO BRAINS')"
   ]
  },
  {
   "cell_type": "code",
   "execution_count": null,
   "metadata": {},
   "outputs": [],
   "source": [
    "# 2775\n",
    "T = int(input())\n",
    "for i in range(T):\n",
    "    k, n = map(int, input().split())\n",
    "    "
   ]
  },
  {
   "cell_type": "code",
   "execution_count": 20,
   "metadata": {},
   "outputs": [
    {
     "ename": "TypeError",
     "evalue": "end must be None or a string, not int",
     "output_type": "error",
     "traceback": [
      "\u001b[0;31m---------------------------------------------------------------------------\u001b[0m",
      "\u001b[0;31mTypeError\u001b[0m                                 Traceback (most recent call last)",
      "Cell \u001b[0;32mIn[20], line 5\u001b[0m\n\u001b[1;32m      3\u001b[0m \u001b[38;5;28;01mfor\u001b[39;00m _ \u001b[38;5;129;01min\u001b[39;00m \u001b[38;5;28mrange\u001b[39m(P):\n\u001b[1;32m      4\u001b[0m     N, M \u001b[38;5;241m=\u001b[39m \u001b[38;5;28mmap\u001b[39m(\u001b[38;5;28mint\u001b[39m,\u001b[38;5;28minput\u001b[39m()\u001b[38;5;241m.\u001b[39msplit())\n\u001b[0;32m----> 5\u001b[0m     \u001b[38;5;28;43mprint\u001b[39;49m\u001b[43m(\u001b[49m\u001b[43mN\u001b[49m\u001b[43m \u001b[49m\u001b[43m,\u001b[49m\u001b[43mend\u001b[49m\u001b[38;5;241;43m=\u001b[39;49m\u001b[43m \u001b[49m\u001b[38;5;241;43m15\u001b[39;49m\u001b[38;5;241;43m*\u001b[39;49m\u001b[38;5;241;43m10\u001b[39;49m\u001b[38;5;241;43m^\u001b[39;49m\u001b[43m(\u001b[49m\u001b[43mM\u001b[49m\u001b[38;5;241;43m-\u001b[39;49m\u001b[38;5;241;43m1\u001b[39;49m\u001b[43m)\u001b[49m\u001b[43m)\u001b[49m\n",
      "\u001b[0;31mTypeError\u001b[0m: end must be None or a string, not int"
     ]
    }
   ],
   "source": [
    "#9471 피사노 주기\n",
    "P = int(input())\n",
    "for _ in range(P):\n",
    "    N, M = map(int,input().split())\n",
    "    if M<2"
   ]
  },
  {
   "cell_type": "code",
   "execution_count": null,
   "metadata": {},
   "outputs": [],
   "source": []
  }
 ],
 "metadata": {
  "kernelspec": {
   "display_name": "Python 3",
   "language": "python",
   "name": "python3"
  },
  "language_info": {
   "codemirror_mode": {
    "name": "ipython",
    "version": 3
   },
   "file_extension": ".py",
   "mimetype": "text/x-python",
   "name": "python",
   "nbconvert_exporter": "python",
   "pygments_lexer": "ipython3",
   "version": "3.11.5"
  },
  "orig_nbformat": 4
 },
 "nbformat": 4,
 "nbformat_minor": 2
}
