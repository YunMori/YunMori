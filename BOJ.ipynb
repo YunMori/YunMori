{
 "cells": [
  {
   "cell_type": "code",
   "execution_count": 5,
   "metadata": {},
   "outputs": [
    {
     "name": "stdout",
     "output_type": "stream",
     "text": [
      "1 0 -1 -1 2 -1 -1 -1 -1 4 3 -1 -1 7 5 -1 -1 -1 -1 -1 -1 -1 -1 -1 -1 -1\n"
     ]
    }
   ],
   "source": [
    "S = input()\n",
    "A = [-1]*26\n",
    "for i in range(len(S)):\n",
    "    N = ord(S[i])-ord('a')\n",
    "    if A[N] == -1 :\n",
    "         A[N] = i\n",
    "print(' '.join(map(str,A)))\n"
   ]
  },
  {
   "cell_type": "code",
   "execution_count": 3,
   "metadata": {},
   "outputs": [
    {
     "name": "stdout",
     "output_type": "stream",
     "text": [
      "1 0 2 -1 -1 -1 -1 -1 -1 4 3 -1 -1 7 5 -1 -1 -1 -1 -1 -1 -1 -1 -1 -1 -1\n"
     ]
    }
   ],
   "source": [
    "S = input()\n",
    "A = [-1] * 26  # 알파벳 소문자 수(26)만큼 -1로 초기화된 리스트 생성\n",
    "\n",
    "for i in range(len(S)):\n",
    "    N = ord(S[i]) - ord('a')  # 문자에 해당하는 인덱스 계산\n",
    "\n",
    "    if A[N] == -1:\n",
    "        A[N] = i\n",
    "\n",
    "print(' '.join(map(str, A)))\n"
   ]
  },
  {
   "cell_type": "code",
   "execution_count": 4,
   "metadata": {},
   "outputs": [
    {
     "name": "stdout",
     "output_type": "stream",
     "text": [
      "1 0 2 -1 -1 -1 -1 -1 -1 4 3 -1 -1 7 5 -1 -1 -1 -1 -1 -1 -1 -1 -1 -1 -1\n"
     ]
    }
   ],
   "source": [
    "S = input()\n",
    "A = [-1] * 26  # 알파벳 소문자 수(26)만큼 -1로 초기화된 리스트 생성\n",
    "\n",
    "for i in range(len(S)):\n",
    "    N = ord(S[i]) - ord('a')  # 문자에 해당하는 인덱스 계산\n",
    "\n",
    "    if A[N] == -1:\n",
    "        A[N] = i\n",
    "\n",
    "# 결과 리스트 생성\n",
    "result = []\n",
    "for i in range(26):\n",
    "    result.append(str(A[i]))\n",
    "\n",
    "print(' '.join(result))\n"
   ]
  },
  {
   "cell_type": "code",
   "execution_count": 13,
   "metadata": {},
   "outputs": [
    {
     "name": "stdout",
     "output_type": "stream",
     "text": [
      "AAABBBCCC\n",
      "/////HHHHHTTTTTPPPPP\n"
     ]
    }
   ],
   "source": [
    "T = int(input())\n",
    "for _ in range(T):\n",
    "    A = []\n",
    "    R, S = input().split()\n",
    "    for i in range(len(S)):\n",
    "        A.append(S[i]*int(R))\n",
    "    print(''.join(map(str,A)))\n"
   ]
  },
  {
   "cell_type": "code",
   "execution_count": 25,
   "metadata": {},
   "outputs": [
    {
     "name": "stdout",
     "output_type": "stream",
     "text": [
      "6\n"
     ]
    }
   ],
   "source": [
    "S = input().split()\n",
    "\n",
    "print(len(S))\n"
   ]
  },
  {
   "cell_type": "code",
   "execution_count": 30,
   "metadata": {},
   "outputs": [
    {
     "name": "stdout",
     "output_type": "stream",
     "text": [
      "437\n"
     ]
    }
   ],
   "source": [
    "A, B = map(str,input().split())\n",
    "rA = A[::-1]\n",
    "rB = B[::-1]\n",
    "rA = int(rA)\n",
    "rB = int(rB)\n",
    "if rA>rB :\n",
    "    print(rA)\n",
    "else:\n",
    "    print(rB)"
   ]
  },
  {
   "cell_type": "code",
   "execution_count": 16,
   "metadata": {},
   "outputs": [
    {
     "name": "stdout",
     "output_type": "stream",
     "text": [
      "36\n"
     ]
    }
   ],
   "source": [
    "I = input()\n",
    "Y = []\n",
    "for i in range(len(I)):\n",
    "    A = I[i-1]\n",
    "    if A in 'ABC' :\n",
    "        A = 3\n",
    "    elif A in 'DEF':\n",
    "        A = 4\n",
    "    elif A in 'GHI' :\n",
    "        A = 5\n",
    "    elif A in 'JKL' :\n",
    "        A = 6\n",
    "    elif A in 'MNO':\n",
    "        A = 7\n",
    "    elif A in 'PQRS':\n",
    "        A =8\n",
    "    elif A in 'TUV':\n",
    "        A =9\n",
    "    elif A in 'WXYZ':\n",
    "        A = 10\n",
    "    Y.append(int(A))\n",
    "print(sum(Y))\n"
   ]
  },
  {
   "cell_type": "code",
   "execution_count": 1,
   "metadata": {},
   "outputs": [
    {
     "name": "stdout",
     "output_type": "stream",
     "text": [
      "\n",
      "\n",
      "\n",
      "\n",
      "wa\n",
      "erdsf\n",
      "\n",
      "\n",
      "\n",
      "\n",
      "\n",
      "\n",
      "\n",
      "\n",
      "\n",
      "\n",
      "\n",
      "\n",
      "\n",
      "\n",
      "\n",
      "\n"
     ]
    }
   ],
   "source": [
    "while True :\n",
    "    try :\n",
    "        print(input())\n",
    "    except EOFError:\n",
    "        break\n",
    "\n"
   ]
  },
  {
   "cell_type": "code",
   "execution_count": 1,
   "metadata": {},
   "outputs": [
    {
     "ename": "SyntaxError",
     "evalue": "invalid syntax (1974149985.py, line 1)",
     "output_type": "error",
     "traceback": [
      "\u001b[1;36m  Cell \u001b[1;32mIn[1], line 1\u001b[1;36m\u001b[0m\n\u001b[1;33m    print(\"         ,r'\"7\u001b[0m\n\u001b[1;37m                        ^\u001b[0m\n\u001b[1;31mSyntaxError\u001b[0m\u001b[1;31m:\u001b[0m invalid syntax\n"
     ]
    }
   ],
   "source": []
  },
  {
   "cell_type": "code",
   "execution_count": 2,
   "metadata": {},
   "outputs": [
    {
     "ename": "SyntaxError",
     "evalue": "EOL while scanning string literal (2203135968.py, line 1)",
     "output_type": "error",
     "traceback": [
      "\u001b[1;36m  Cell \u001b[1;32mIn[2], line 1\u001b[1;36m\u001b[0m\n\u001b[1;33m    print(''         ,r'\"7'')\u001b[0m\n\u001b[1;37m                             ^\u001b[0m\n\u001b[1;31mSyntaxError\u001b[0m\u001b[1;31m:\u001b[0m EOL while scanning string literal\n"
     ]
    }
   ],
   "source": [
    "print('         ,r'\"7')"
   ]
  },
  {
   "cell_type": "code",
   "execution_count": 14,
   "metadata": {},
   "outputs": [
    {
     "name": "stdout",
     "output_type": "stream",
     "text": [
      "1 0 0 0 0 1\n"
     ]
    }
   ],
   "source": [
    "K,Q,B,L,N,P = map(int, input().split())\n",
    "K2=1-K\n",
    "Q2 = 1-Q\n",
    "L2 = 2-L\n",
    "B2 = 2-B\n",
    "N2 = 2-N\n",
    "P2 = 8-P\n",
    "print(K2,Q2,B2,L2,N2,P2)"
   ]
  },
  {
   "cell_type": "code",
   "execution_count": 15,
   "metadata": {},
   "outputs": [
    {
     "ename": "IndentationError",
     "evalue": "expected an indented block (1077367115.py, line 4)",
     "output_type": "error",
     "traceback": [
      "\u001b[1;36m  Cell \u001b[1;32mIn[15], line 4\u001b[1;36m\u001b[0m\n\u001b[1;33m    \u001b[0m\n\u001b[1;37m    ^\u001b[0m\n\u001b[1;31mIndentationError\u001b[0m\u001b[1;31m:\u001b[0m expected an indented block\n"
     ]
    }
   ],
   "source": [
    "N = int(input())\n",
    "A = '*'\n",
    "for i in range(2*N-1):\n",
    "    "
   ]
  },
  {
   "cell_type": "code",
   "execution_count": 18,
   "metadata": {},
   "outputs": [
    {
     "name": "stdout",
     "output_type": "stream",
     "text": [
      "         ,r'\"7\n",
      "r`-_   ,'  ,/\n",
      " \\. \". L_r'\n",
      "   `~\\/\n",
      "      |\n",
      "      |\n"
     ]
    }
   ],
   "source": [
    "A =\"\"\"         ,r'\"7\n",
    "r`-_   ,'  ,/\n",
    " \\. \". L_r'\n",
    "   `~\\/\n",
    "      |\n",
    "      |\"\"\"\n",
    "print(A)"
   ]
  },
  {
   "cell_type": "code",
   "execution_count": 24,
   "metadata": {},
   "outputs": [
    {
     "name": "stdout",
     "output_type": "stream",
     "text": [
      "     *\n",
      "     *\n",
      "     *\n",
      "     *\n",
      "     *\n"
     ]
    }
   ],
   "source": [
    "N = int(input())\n",
    "for i in range(N):\n",
    "    print(' '*(),'*')\n",
    "    "
   ]
  },
  {
   "cell_type": "code",
   "execution_count": 26,
   "metadata": {},
   "outputs": [
    {
     "name": "stdout",
     "output_type": "stream",
     "text": [
      "333\n",
      "1\n"
     ]
    }
   ],
   "source": [
    "A,B = map(int, input().split())\n",
    "print(A//B)\n",
    "print(A%B)"
   ]
  },
  {
   "cell_type": "code",
   "execution_count": 39,
   "metadata": {},
   "outputs": [
    {
     "name": "stdout",
     "output_type": "stream",
     "text": [
      "9000\n"
     ]
    }
   ],
   "source": [
    "B = int(input())\n",
    "A = (10*B)//11\n",
    "print (A)"
   ]
  },
  {
   "cell_type": "code",
   "execution_count": 43,
   "metadata": {},
   "outputs": [
    {
     "name": "stdout",
     "output_type": "stream",
     "text": [
      "0.3\n"
     ]
    }
   ],
   "source": [
    "W,H = map(int, input().split())\n",
    "print(round((W*H)/2,1))"
   ]
  },
  {
   "cell_type": "code",
   "execution_count": 70,
   "metadata": {},
   "outputs": [
    {
     "name": "stdout",
     "output_type": "stream",
     "text": [
      "['Never gonna let you down', 'Never gonna give you up']\n",
      "Yes\n"
     ]
    }
   ],
   "source": [
    "N = int(input())\n",
    "S = ['Never gonna give you up','Never gonna let you down','Never gonna run around and desert you','Never gonna make you cry','Never gonna say goodbye','Never gonna tell a lie and hurt you','Never gonna stop']\n",
    "A = []\n",
    "for _ in range(N):\n",
    "    S1 = input()\n",
    "    A.append(S1)\n",
    "print(A)\n",
    "if A  in S :\n",
    "    print('No')\n",
    "else:\n",
    "    print('Yes')"
   ]
  },
  {
   "cell_type": "code",
   "execution_count": 5,
   "metadata": {},
   "outputs": [
    {
     "name": "stdout",
     "output_type": "stream",
     "text": [
      "3\n"
     ]
    }
   ],
   "source": [
    "N = int(input())\n",
    "A = list(map(int,input().split()))\n",
    "B = list(map(int,input().split()))\n",
    "Q = 0\n",
    "for i in range(N):\n",
    "    if A[i]<=B[i]:\n",
    "        Q+=1\n",
    "\n",
    "print(Q)"
   ]
  },
  {
   "cell_type": "code",
   "execution_count": 112,
   "metadata": {},
   "outputs": [
    {
     "name": "stdout",
     "output_type": "stream",
     "text": [
      "     \n",
      "    *\n",
      "   ***\n",
      "  *****\n",
      " *******\n",
      "  *******\n",
      "   *****\n",
      "    ***\n",
      "     *\n"
     ]
    }
   ],
   "source": [
    "N = int(input())\n",
    "for i in range(N):\n",
    "    print(' '*(N-i-1),'*'*(2*i+1))\n",
    "for i in range(N-1,0,-1):\n",
    "    print(' '*(N-i),'*'*(2*i-1))"
   ]
  },
  {
   "cell_type": "code",
   "execution_count": 9,
   "metadata": {},
   "outputs": [
    {
     "name": "stdout",
     "output_type": "stream",
     "text": [
      "1\n"
     ]
    }
   ],
   "source": [
    "N = input()\n",
    "if len(N) == 1 :\n",
    "    print(0)\n",
    "if (N[i] == N[len(N)- i-1] for i in range(len(N))) :\n",
    "        A = 1\n",
    "else :\n",
    "        A = 0\n",
    "print(A)"
   ]
  },
  {
   "cell_type": "code",
   "execution_count": 5,
   "metadata": {},
   "outputs": [
    {
     "name": "stdout",
     "output_type": "stream",
     "text": [
      "0\n",
      "0\n",
      "0\n",
      "0\n",
      "0\n",
      "0\n",
      "0\n",
      "0\n"
     ]
    }
   ],
   "source": [
    "for i in range(len(N)):\n",
    "   if N[i] == N[len(N)-i-1]:\n",
    "      print(1)\n",
    "   else :\n",
    "      print(0)"
   ]
  },
  {
   "cell_type": "code",
   "execution_count": 2,
   "metadata": {},
   "outputs": [
    {
     "name": "stdout",
     "output_type": "stream",
     "text": [
      "1\n"
     ]
    }
   ],
   "source": [
    "N = input()\n",
    "if len(N) == 1:\n",
    "    A = 0\n",
    "elif (N[i] == N[len(N)-i-1] for i in range(len(N))) :\n",
    "    A = 1\n",
    "else : \n",
    "    A =0\n",
    "print (A)"
   ]
  },
  {
   "cell_type": "code",
   "execution_count": 12,
   "metadata": {},
   "outputs": [
    {
     "name": "stdout",
     "output_type": "stream",
     "text": [
      "0\n"
     ]
    }
   ],
   "source": [
    "# 입력 받기\n",
    "word = input().strip()  # 입력 문자열을 받고 양쪽 공백 제거\n",
    "\n",
    "# 문자열을 뒤집어서 뒤집은 문자열을 만듭니다.\n",
    "reversed_word = word[::-1]\n",
    "\n",
    "# 원본 문자열과 뒤집은 문자열이 같으면 팰린드롬이고, 다르면 팰린드롬이 아닙니다.\n",
    "if word == reversed_word:\n",
    "    print(1)\n",
    "else:\n",
    "    print(0)\n"
   ]
  },
  {
   "cell_type": "markdown",
   "metadata": {},
   "source": []
  },
  {
   "cell_type": "code",
   "execution_count": 28,
   "metadata": {},
   "outputs": [
    {
     "name": "stdout",
     "output_type": "stream",
     "text": [
      "0\n"
     ]
    }
   ],
   "source": [
    "N = input()\n",
    "if N[::] == N[::-1]:\n",
    "    print(1)\n",
    "else :\n",
    "    print(0)"
   ]
  },
  {
   "cell_type": "code",
   "execution_count": null,
   "metadata": {},
   "outputs": [],
   "source": [
    "#H,W = 케이크 가로 세로 N = 친구 수\n",
    "H,W,N = map(int,input().split())\n",
    "B = []\n",
    "for _ in range(H):\n",
    "    A = list(map(int,input().split()))\n",
    "    B.append(A)\n",
    "\n"
   ]
  },
  {
   "cell_type": "code",
   "execution_count": 48,
   "metadata": {},
   "outputs": [
    {
     "name": "stdout",
     "output_type": "stream",
     "text": [
      "MISSISSIPI\n"
     ]
    }
   ],
   "source": [
    "A = input().lower\n",
    "for i in A:\n",
    "    \n"
   ]
  },
  {
   "cell_type": "code",
   "execution_count": null,
   "metadata": {},
   "outputs": [],
   "source": [
    "import sys\n",
    "N = int(input())\n",
    "A = set(sys.stdin.readline().split())\n",
    "M = int(input())\n",
    "B = list(sys.stdin.readline().split())\n",
    "for i in B:\n",
    "    if i in A:\n",
    "        print(1)\n",
    "    else:\n",
    "        print(0)"
   ]
  },
  {
   "cell_type": "code",
   "execution_count": null,
   "metadata": {},
   "outputs": [],
   "source": [
    "N,M = map(int,input().split())\n",
    "for i in range(N):\n",
    "    A = list(map(int,input().split()))\n",
    "\n"
   ]
  },
  {
   "cell_type": "code",
   "execution_count": 26,
   "metadata": {},
   "outputs": [
    {
     "name": "stdout",
     "output_type": "stream",
     "text": [
      "d**\n"
     ]
    }
   ],
   "source": [
    "H = 'c=','c-',' dz=' ,'d-' ,'lj' ,'nj' ,'s=' ,'z='\n",
    "A = input()\n",
    "if 'dz=' in A:\n",
    "   A = A.replace('dz=','*')\n",
    "   for i in H:\n",
    "    A=A.replace(i,'*')\n",
    "else:\n",
    "    for i in H:\n",
    "        A=A.replace(i,'*')\n",
    "print(len(A))\n"
   ]
  },
  {
   "cell_type": "code",
   "execution_count": 53,
   "metadata": {},
   "outputs": [
    {
     "name": "stdout",
     "output_type": "stream",
     "text": [
      "[4, 4, 4, 6, 6, 6, 5, 6, 100]\n"
     ]
    }
   ],
   "source": [
    "N,M = map(int,input().split())\n",
    "for _ in range(M):\n",
    "    C = []*N\n",
    "    D = []*N\n",
    "    G = []*N\n",
    "for _ in range(M) :\n",
    "    A = list(input().split())\n",
    "    C.append(A)\n",
    "for _ in range(M) :\n",
    "    B = list(input().split())\n",
    "    D.append(B)\n",
    "for i in range(M):\n",
    "    for z in range(N):\n",
    "        G.append(int(C[i][z])+int(D[i][z]))\n",
    "print(G)\n"
   ]
  },
  {
   "cell_type": "code",
   "execution_count": 59,
   "metadata": {},
   "outputs": [
    {
     "ename": "ValueError",
     "evalue": "not enough values to unpack (expected 2, got 0)",
     "output_type": "error",
     "traceback": [
      "\u001b[1;31m---------------------------------------------------------------------------\u001b[0m",
      "\u001b[1;31mValueError\u001b[0m                                Traceback (most recent call last)",
      "\u001b[1;32mc:\\Users\\sbok1\\project\\YunMori\\Untitled-1.ipynb 셀 33\u001b[0m line \u001b[0;36m1\n\u001b[1;32m----> <a href='vscode-notebook-cell:/c%3A/Users/sbok1/project/YunMori/Untitled-1.ipynb#X45sZmlsZQ%3D%3D?line=0'>1</a>\u001b[0m N,M \u001b[39m=\u001b[39m \u001b[39mmap\u001b[39m(\u001b[39mint\u001b[39m,\u001b[39minput\u001b[39m()\u001b[39m.\u001b[39msplit())\n\u001b[0;32m      <a href='vscode-notebook-cell:/c%3A/Users/sbok1/project/YunMori/Untitled-1.ipynb#X45sZmlsZQ%3D%3D?line=1'>2</a>\u001b[0m A \u001b[39m=\u001b[39m [\u001b[39minput\u001b[39m()\u001b[39m.\u001b[39msplit()\u001b[39mfor\u001b[39;00m _ \u001b[39min\u001b[39;00m \u001b[39mrange\u001b[39m(N)]\n\u001b[0;32m      <a href='vscode-notebook-cell:/c%3A/Users/sbok1/project/YunMori/Untitled-1.ipynb#X45sZmlsZQ%3D%3D?line=2'>3</a>\u001b[0m B \u001b[39m=\u001b[39m [\u001b[39minput\u001b[39m()\u001b[39m.\u001b[39msplit()\u001b[39mfor\u001b[39;00m _ \u001b[39min\u001b[39;00m \u001b[39mrange\u001b[39m(N)]\n",
      "\u001b[1;31mValueError\u001b[0m: not enough values to unpack (expected 2, got 0)"
     ]
    }
   ],
   "source": [
    "N,M = map(int,input().split())\n",
    "A = [input().split()for _ in range(N)]\n",
    "B = [input().split()for _ in range(N)]\n",
    "C = []\n",
    "for a in range(N):\n",
    "    for i in range(M):\n",
    "        C.append(int(A[a][i])+int(B[a][i]))\n",
    "print(' '.join(map(str, C)))"
   ]
  },
  {
   "cell_type": "code",
   "execution_count": 92,
   "metadata": {},
   "outputs": [
    {
     "name": "stdout",
     "output_type": "stream",
     "text": [
      "Yes\n"
     ]
    }
   ],
   "source": [
    "S = ['Never gonna give you up','Never gonna let you down','Never gonna run around and desert you','Never gonna make you cry','Never gonna say goodbye','Never gonna tell a lie and hurt you','Never gonna stop']\n",
    "N = int(input())\n",
    "C = 0\n",
    "A = [input()for _ in range(N)]\n",
    "for i in A:\n",
    "    if i not in S:\n",
    "        C+=1\n",
    "if C>0:\n",
    "    print('Yes')\n",
    "else:\n",
    "    print('No')\n"
   ]
  },
  {
   "cell_type": "code",
   "execution_count": 124,
   "metadata": {},
   "outputs": [
    {
     "name": "stdout",
     "output_type": "stream",
     "text": [
      "-1\n"
     ]
    }
   ],
   "source": [
    "N = int(input())\n",
    "C = N//5+(N%5)//3\n",
    "if N/5/3>1:\n",
    "    print(C)\n",
    "else:\n",
    "    print(-1)"
   ]
  },
  {
   "cell_type": "code",
   "execution_count": 140,
   "metadata": {},
   "outputs": [
    {
     "name": "stdout",
     "output_type": "stream",
     "text": [
      "2\n"
     ]
    }
   ],
   "source": [
    "N = int(input())\n",
    "I = 0\n",
    "It = [5,3]\n",
    "for i in It:\n",
    "    I += N//i\n",
    "    N %= i\n",
    "print(I)"
   ]
  },
  {
   "cell_type": "code",
   "execution_count": null,
   "metadata": {},
   "outputs": [],
   "source": [
    "N = int(input())\n",
    "It = [3,5]\n",
    "for i in It:\n",
    "    N/i\n",
    "    \n",
    "        \n"
   ]
  }
 ],
 "metadata": {
  "kernelspec": {
   "display_name": "Python 3",
   "language": "python",
   "name": "python3"
  },
  "language_info": {
   "codemirror_mode": {
    "name": "ipython",
    "version": 3
   },
   "file_extension": ".py",
   "mimetype": "text/x-python",
   "name": "python",
   "nbconvert_exporter": "python",
   "pygments_lexer": "ipython3",
   "version": "3.9.13"
  },
  "orig_nbformat": 4
 },
 "nbformat": 4,
 "nbformat_minor": 2
}
