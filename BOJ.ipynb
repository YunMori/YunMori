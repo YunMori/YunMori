{
 "cells": [
  {
   "cell_type": "code",
   "execution_count": null,
   "metadata": {},
   "outputs": [],
   "source": [
    "S = input()\n",
    "A = [-1]*26\n",
    "for i in range(len(S)):\n",
    "    N = ord(S[i])-ord('a')\n",
    "    if A[N] == -1 :\n",
    "         A[N] = i\n",
    "print(' '.join(map(str,A)))\n"
   ]
  },
  {
   "cell_type": "code",
   "execution_count": null,
   "metadata": {},
   "outputs": [],
   "source": [
    "S = input()\n",
    "A = [-1] * 26  # 알파벳 소문자 수(26)만큼 -1로 초기화된 리스트 생성\n",
    "\n",
    "for i in range(len(S)):\n",
    "    N = ord(S[i]) - ord('a')  # 문자에 해당하는 인덱스 계산\n",
    "\n",
    "    if A[N] == -1:\n",
    "        A[N] = i\n",
    "\n",
    "print(' '.join(map(str, A)))\n"
   ]
  },
  {
   "cell_type": "code",
   "execution_count": null,
   "metadata": {},
   "outputs": [],
   "source": [
    "S = input()\n",
    "A = [-1] * 26  # 알파벳 소문자 수(26)만큼 -1로 초기화된 리스트 생성\n",
    "\n",
    "for i in range(len(S)):\n",
    "    N = ord(S[i]) - ord('a')  # 문자에 해당하는 인덱스 계산\n",
    "\n",
    "    if A[N] == -1:\n",
    "        A[N] = i\n",
    "\n",
    "# 결과 리스트 생성\n",
    "result = []\n",
    "for i in range(26):\n",
    "    result.append(str(A[i]))\n",
    "\n",
    "print(' '.join(result))\n"
   ]
  },
  {
   "cell_type": "code",
   "execution_count": null,
   "metadata": {},
   "outputs": [],
   "source": [
    "T = int(input())\n",
    "for _ in range(T):\n",
    "    A = []\n",
    "    R, S = input().split()\n",
    "    for i in range(len(S)):\n",
    "        A.append(S[i]*int(R))\n",
    "    print(''.join(map(str,A)))\n"
   ]
  },
  {
   "cell_type": "code",
   "execution_count": null,
   "metadata": {},
   "outputs": [],
   "source": [
    "S = input().split()\n",
    "\n",
    "print(len(S))\n"
   ]
  },
  {
   "cell_type": "code",
   "execution_count": null,
   "metadata": {},
   "outputs": [],
   "source": [
    "A, B = map(str,input().split())\n",
    "rA = A[::-1]\n",
    "rB = B[::-1]\n",
    "rA = int(rA)\n",
    "rB = int(rB)\n",
    "if rA>rB :\n",
    "    print(rA)\n",
    "else:\n",
    "    print(rB)"
   ]
  },
  {
   "cell_type": "code",
   "execution_count": null,
   "metadata": {},
   "outputs": [],
   "source": [
    "I = input()\n",
    "Y = []\n",
    "for i in range(len(I)):\n",
    "    A = I[i-1]\n",
    "    if A in 'ABC' :\n",
    "        A = 3\n",
    "    elif A in 'DEF':\n",
    "        A = 4\n",
    "    elif A in 'GHI' :\n",
    "        A = 5\n",
    "    elif A in 'JKL' :\n",
    "        A = 6\n",
    "    elif A in 'MNO':\n",
    "        A = 7\n",
    "    elif A in 'PQRS':\n",
    "        A =8\n",
    "    elif A in 'TUV':\n",
    "        A =9\n",
    "    elif A in 'WXYZ':\n",
    "        A = 10\n",
    "    Y.append(int(A))\n",
    "print(sum(Y))\n"
   ]
  },
  {
   "cell_type": "code",
   "execution_count": null,
   "metadata": {},
   "outputs": [],
   "source": [
    "while True :\n",
    "    try :\n",
    "        print(input())\n",
    "    except EOFError:\n",
    "        break\n",
    "\n"
   ]
  },
  {
   "cell_type": "code",
   "execution_count": null,
   "metadata": {},
   "outputs": [],
   "source": []
  },
  {
   "cell_type": "code",
   "execution_count": null,
   "metadata": {},
   "outputs": [],
   "source": [
    "print('         ,r'\"7')"
   ]
  },
  {
   "cell_type": "code",
   "execution_count": null,
   "metadata": {},
   "outputs": [],
   "source": [
    "K,Q,B,L,N,P = map(int, input().split())\n",
    "K2=1-K\n",
    "Q2 = 1-Q\n",
    "L2 = 2-L\n",
    "B2 = 2-B\n",
    "N2 = 2-N\n",
    "P2 = 8-P\n",
    "print(K2,Q2,B2,L2,N2,P2)"
   ]
  },
  {
   "cell_type": "code",
   "execution_count": null,
   "metadata": {},
   "outputs": [],
   "source": [
    "N = int(input())\n",
    "A = '*'\n",
    "for i in range(2*N-1):\n",
    "    "
   ]
  },
  {
   "cell_type": "code",
   "execution_count": null,
   "metadata": {},
   "outputs": [],
   "source": [
    "A =\"\"\"         ,r'\"7\n",
    "r`-_   ,'  ,/\n",
    " \\. \". L_r'\n",
    "   `~\\/\n",
    "      |\n",
    "      |\"\"\"\n",
    "print(A)"
   ]
  },
  {
   "cell_type": "code",
   "execution_count": null,
   "metadata": {},
   "outputs": [],
   "source": [
    "N = int(input())\n",
    "for i in range(N):\n",
    "    print(' '*(),'*')\n",
    "    "
   ]
  },
  {
   "cell_type": "code",
   "execution_count": null,
   "metadata": {},
   "outputs": [],
   "source": [
    "A,B = map(int, input().split())\n",
    "print(A//B)\n",
    "print(A%B)"
   ]
  },
  {
   "cell_type": "code",
   "execution_count": null,
   "metadata": {},
   "outputs": [],
   "source": [
    "B = int(input())\n",
    "A = (10*B)//11\n",
    "print (A)"
   ]
  },
  {
   "cell_type": "code",
   "execution_count": null,
   "metadata": {},
   "outputs": [],
   "source": [
    "W,H = map(int, input().split())\n",
    "print(round((W*H)/2,1))"
   ]
  },
  {
   "cell_type": "code",
   "execution_count": null,
   "metadata": {},
   "outputs": [],
   "source": [
    "N = int(input())\n",
    "S = ['Never gonna give you up','Never gonna let you down','Never gonna run around and desert you','Never gonna make you cry','Never gonna say goodbye','Never gonna tell a lie and hurt you','Never gonna stop']\n",
    "A = []\n",
    "for _ in range(N):\n",
    "    S1 = input()\n",
    "    A.append(S1)\n",
    "print(A)\n",
    "if A  in S :\n",
    "    print('No')\n",
    "else:\n",
    "    print('Yes')"
   ]
  },
  {
   "cell_type": "code",
   "execution_count": null,
   "metadata": {},
   "outputs": [],
   "source": [
    "N = int(input())\n",
    "A = list(map(int,input().split()))\n",
    "B = list(map(int,input().split()))\n",
    "Q = 0\n",
    "for i in range(N):\n",
    "    if A[i]<=B[i]:\n",
    "        Q+=1\n",
    "\n",
    "print(Q)"
   ]
  },
  {
   "cell_type": "code",
   "execution_count": null,
   "metadata": {},
   "outputs": [],
   "source": [
    "N = int(input())\n",
    "for i in range(N):\n",
    "    print(' '*(N-i-1),'*'*(2*i+1))\n",
    "for i in range(N-1,0,-1):\n",
    "    print(' '*(N-i),'*'*(2*i-1))"
   ]
  },
  {
   "cell_type": "code",
   "execution_count": null,
   "metadata": {},
   "outputs": [],
   "source": [
    "N = input()\n",
    "if len(N) == 1 :\n",
    "    print(0)\n",
    "if (N[i] == N[len(N)- i-1] for i in range(len(N))) :\n",
    "        A = 1\n",
    "else :\n",
    "        A = 0\n",
    "print(A)"
   ]
  },
  {
   "cell_type": "code",
   "execution_count": null,
   "metadata": {},
   "outputs": [],
   "source": [
    "for i in range(len(N)):\n",
    "   if N[i] == N[len(N)-i-1]:\n",
    "      print(1)\n",
    "   else :\n",
    "      print(0)"
   ]
  },
  {
   "cell_type": "code",
   "execution_count": null,
   "metadata": {},
   "outputs": [],
   "source": [
    "N = input()\n",
    "if len(N) == 1:\n",
    "    A = 0\n",
    "elif (N[i] == N[len(N)-i-1] for i in range(len(N))) :\n",
    "    A = 1\n",
    "else : \n",
    "    A =0\n",
    "print (A)"
   ]
  },
  {
   "cell_type": "code",
   "execution_count": null,
   "metadata": {},
   "outputs": [],
   "source": [
    "# 입력 받기\n",
    "word = input().strip()  # 입력 문자열을 받고 양쪽 공백 제거\n",
    "\n",
    "# 문자열을 뒤집어서 뒤집은 문자열을 만듭니다.\n",
    "reversed_word = word[::-1]\n",
    "\n",
    "# 원본 문자열과 뒤집은 문자열이 같으면 팰린드롬이고, 다르면 팰린드롬이 아닙니다.\n",
    "if word == reversed_word:\n",
    "    print(1)\n",
    "else:\n",
    "    print(0)\n"
   ]
  },
  {
   "cell_type": "markdown",
   "metadata": {},
   "source": []
  },
  {
   "cell_type": "code",
   "execution_count": null,
   "metadata": {},
   "outputs": [],
   "source": [
    "N = input()\n",
    "if N[::] == N[::-1]:\n",
    "    print(1)\n",
    "else :\n",
    "    print(0)"
   ]
  },
  {
   "cell_type": "code",
   "execution_count": null,
   "metadata": {},
   "outputs": [],
   "source": [
    "#H,W = 케이크 가로 세로 N = 친구 수\n",
    "H,W,N = map(int,input().split())\n",
    "B = []\n",
    "for _ in range(H):\n",
    "    A = list(map(int,input().split()))\n",
    "    B.append(A)\n",
    "\n"
   ]
  },
  {
   "cell_type": "code",
   "execution_count": null,
   "metadata": {},
   "outputs": [],
   "source": [
    "A = input().lower\n",
    "for i in A:\n",
    "    \n"
   ]
  },
  {
   "cell_type": "code",
   "execution_count": null,
   "metadata": {},
   "outputs": [],
   "source": [
    "import sys\n",
    "N = int(input())\n",
    "A = set(sys.stdin.readline().split())\n",
    "M = int(input())\n",
    "B = list(sys.stdin.readline().split())\n",
    "for i in B:\n",
    "    if i in A:\n",
    "        print(1)\n",
    "    else:\n",
    "        print(0)"
   ]
  },
  {
   "cell_type": "code",
   "execution_count": null,
   "metadata": {},
   "outputs": [],
   "source": [
    "N,M = map(int,input().split())\n",
    "for i in range(N):\n",
    "    A = list(map(int,input().split()))\n",
    "\n"
   ]
  },
  {
   "cell_type": "code",
   "execution_count": null,
   "metadata": {},
   "outputs": [],
   "source": [
    "H = 'c=','c-',' dz=' ,'d-' ,'lj' ,'nj' ,'s=' ,'z='\n",
    "A = input()\n",
    "if 'dz=' in A:\n",
    "   A = A.replace('dz=','*')\n",
    "   for i in H:\n",
    "    A=A.replace(i,'*')\n",
    "else:\n",
    "    for i in H:\n",
    "        A=A.replace(i,'*')\n",
    "print(len(A))\n"
   ]
  },
  {
   "cell_type": "code",
   "execution_count": null,
   "metadata": {},
   "outputs": [],
   "source": [
    "N,M = map(int,input().split())\n",
    "for _ in range(M):\n",
    "    C = []*N\n",
    "    D = []*N\n",
    "    G = []*N\n",
    "for _ in range(M) :\n",
    "    A = list(input().split())\n",
    "    C.append(A)\n",
    "for _ in range(M) :\n",
    "    B = list(input().split())\n",
    "    D.append(B)\n",
    "for i in range(M):\n",
    "    for z in range(N):\n",
    "        G.append(int(C[i][z])+int(D[i][z]))\n",
    "print(G)\n"
   ]
  },
  {
   "cell_type": "code",
   "execution_count": null,
   "metadata": {},
   "outputs": [],
   "source": [
    "N,M = map(int,input().split())\n",
    "A = [input().split()for _ in range(N)]\n",
    "B = [input().split()for _ in range(N)]\n",
    "C = []\n",
    "for a in range(N):\n",
    "    for i in range(M):\n",
    "        C.append(int(A[a][i])+int(B[a][i]))\n",
    "print(' '.join(map(str, C)))"
   ]
  },
  {
   "cell_type": "code",
   "execution_count": null,
   "metadata": {},
   "outputs": [],
   "source": [
    "S = ['Never gonna give you up','Never gonna let you down','Never gonna run around and desert you','Never gonna make you cry','Never gonna say goodbye','Never gonna tell a lie and hurt you','Never gonna stop']\n",
    "N = int(input())\n",
    "C = 0\n",
    "A = [input()for _ in range(N)]\n",
    "for i in A:\n",
    "    if i not in S:\n",
    "        C+=1\n",
    "if C>0:\n",
    "    print('Yes')\n",
    "else:\n",
    "    print('No')\n"
   ]
  },
  {
   "cell_type": "code",
   "execution_count": null,
   "metadata": {},
   "outputs": [],
   "source": [
    "N = int(input())\n",
    "C = N//5+(N%5)//3\n",
    "if N/5/3>1:\n",
    "    print(C)\n",
    "else:\n",
    "    print(-1)"
   ]
  },
  {
   "cell_type": "code",
   "execution_count": null,
   "metadata": {},
   "outputs": [],
   "source": [
    "#1316\n",
    "N = int(input())\n",
    "for i in range(N):\n",
    "    W = input()\n",
    "    for a in W:\n",
    "        W.find(a)\n",
    "        \n",
    "        \n",
    "print(W)"
   ]
  },
  {
   "cell_type": "code",
   "execution_count": null,
   "metadata": {},
   "outputs": [],
   "source": [
    "#2839\n",
    "N = int(input())\n",
    "\n",
    "for ct_5 in range(N//5,-1,-1):\n",
    "    ct_3 = (N-ct_5*5)//3\n",
    "    if ct_5*5+ct_3*3==N:\n",
    "        print(ct_3+ct_5)\n",
    "        break\n",
    "else:\n",
    "    print(-1)\n",
    "#최소값을 구하는 것이기 때문에 5부터 카운트 시작"
   ]
  },
  {
   "cell_type": "code",
   "execution_count": null,
   "metadata": {},
   "outputs": [],
   "source": [
    "#2749\n",
    "mod = int(1000000)\n",
    "p = int(mod / 10 * 15)\n",
    "\n"
   ]
  },
  {
   "cell_type": "code",
   "execution_count": null,
   "metadata": {},
   "outputs": [],
   "source": [
    "#프로그래머스(소수만들기)\n",
    "from itertools import combinations as cb\n",
    "import math\n",
    "nums = [1,2,7,6,4]\n",
    "def solution(nums):\n",
    "    answer = 0\n",
    "    for i in cb(nums,3):\n",
    "        a = sum(i)\n",
    "        b = int(math.sqrt(a))\n",
    "        for x in range(2,b+1):\n",
    "            if a%x==0:\n",
    "                break\n",
    "        else:\n",
    "            answer+=1\n",
    "    return answer\n",
    "\n",
    "print(solution(nums))"
   ]
  },
  {
   "cell_type": "code",
   "execution_count": null,
   "metadata": {},
   "outputs": [],
   "source": [
    "#프로그래머스(영어 끝말잇기)\n",
    "words = [\"tank\", \"kick\", \"know\", \"wheel\", \"land\", \"dream\", \"mother\", \"robot\", \"tank\"]\n",
    "n = 3\n",
    "for i in range(len(words)):\n",
    "    if i[-1]!=i+1[0]:\n",
    "        False\n",
    "    else : \n",
    "        True\n",
    "#def solution(n, words):\n",
    "    #for i in range(len(words)):\n",
    "        #print(i)\n",
    "    #answer = []\n",
    "    \n",
    "    #return answer\n"
   ]
  },
  {
   "cell_type": "code",
   "execution_count": null,
   "metadata": {},
   "outputs": [],
   "source": [
    "#1463\n",
    "N = int(input())\n",
    "dp = [0] * (N + 1)\n",
    "\n",
    "for i in range(2, N + 1):\n",
    "    dp[i] = dp[i - 1] + 1\n",
    "    if i % 2 == 0:\n",
    "        dp[i] = min(dp[i], dp[i // 2] + 1)\n",
    "    if i % 3 == 0:\n",
    "        dp[i] = min(dp[i], dp[i // 3] + 1)\n",
    "\n",
    "print(dp[N]) \n"
   ]
  },
  {
   "cell_type": "code",
   "execution_count": null,
   "metadata": {},
   "outputs": [],
   "source": [
    "# 4562\n",
    "N = int(input())\n",
    "\n",
    "for _ in range(N):\n",
    "    A, B = map(int, input().split())\n",
    "    if A >= B:\n",
    "        print('MMM BRAINS')\n",
    "    else:\n",
    "        print('NO BRAINS')"
   ]
  },
  {
   "cell_type": "code",
   "execution_count": null,
   "metadata": {},
   "outputs": [],
   "source": [
    "# 2775\n",
    "T = int(input())\n",
    "for i in range(T):\n",
    "    k, n = map(int, input().split())\n",
    "    "
   ]
  },
  {
   "cell_type": "code",
   "execution_count": null,
   "metadata": {},
   "outputs": [],
   "source": [
    "#1291\n",
    "def perfect_number(n):\n",
    "    perfect_numbers = {6, 28, 496, 8128}\n",
    "    return n in perfect_numbers\n",
    "\n",
    "def starcraft_number(n):\n",
    "    digit_sum = sum(int(digit) for digit in str(n))\n",
    "    return digit_sum % 2 == 1\n",
    "\n",
    "def chicken_number(n):\n",
    "    return n in {2, 4}\n",
    "\n",
    "def is_composite_with_even_prime_factors(n):\n",
    "    if n <= 1:\n",
    "        return False\n",
    "    prime_factors = set()\n",
    "    d = 2\n",
    "    while n % d == 0:\n",
    "        prime_factors.add(d)\n",
    "        n //= d\n",
    "    d = 3\n",
    "    while d * d <= n:\n",
    "        while n % d == 0:\n",
    "            prime_factors.add(d)\n",
    "            n //= d\n",
    "        d += 2\n",
    "    if n > 1:\n",
    "        prime_factors.add(n)\n",
    "    return len(prime_factors) > 1 and len(prime_factors) % 2 == 0\n",
    "\n",
    "def classify_number(n):\n",
    "    is_imyeon = is_perfect_number(n) and digit_sum_is_odd(n)\n",
    "    is_imhyeon = is_starcraft_or_chicken_number(n) or is_composite_with_even_prime_factors(n)\n",
    "    \n",
    "    if is_imyeon and is_imhyeon:\n",
    "        return 4\n",
    "    elif is_imyeon:\n",
    "        return 1\n",
    "    elif is_imhyeon:\n",
    "        return 2\n",
    "    else:\n",
    "        return 3\n",
    "\n",
    "if __name__ == \"__main__\":\n",
    "    N = int(input().strip())\n",
    "    print(classify_number(N))"
   ]
  },
  {
   "cell_type": "code",
   "execution_count": null,
   "metadata": {},
   "outputs": [],
   "source": [
    "#1316\n",
    "def is_group_word(word):\n",
    "    seen_chars = set()\n",
    "    last_char = ''\n",
    "    \n",
    "    for char in word:\n",
    "        if char != last_char:\n",
    "            if char in seen_chars:\n",
    "                return False\n",
    "            seen_chars.add(char)\n",
    "            last_char = char\n",
    "    return True\n",
    "\n",
    "def count_group_words(words):\n",
    "    count = 0\n",
    "    for word in words:\n",
    "        if is_group_word(word):\n",
    "            count += 1\n",
    "    return count\n",
    "\n",
    "N = int(input())\n",
    "words = [input().strip() for _ in range(N)]\n",
    "\n",
    "print(count_group_words(words))"
   ]
  },
  {
   "cell_type": "code",
   "execution_count": null,
   "metadata": {},
   "outputs": [],
   "source": [
    "#25206\n",
    "# 과목별 등급에 따른 평점 dictionary\n",
    "grade_to_point = {\n",
    "    'A+': 4.5, 'A0': 4.0, 'B+': 3.5, 'B0': 3.0,\n",
    "    'C+': 2.5, 'C0': 2.0, 'D+': 1.5, 'D0': 1.0, 'F': 0.0\n",
    "}\n",
    "\n",
    "# 학점의 총합과 (학점 * 과목평점)의 총합을 저장할 변수 초기화\n",
    "total_credits = 0.0\n",
    "total_points = 0.0\n",
    "\n",
    "# 20줄의 입력을 받음\n",
    "for _ in range(20):\n",
    "    # 과목명, 학점, 등급을 공백으로 구분하여 입력받음\n",
    "    subject, credit, grade = input().split()\n",
    "    credit = float(credit)  # 학점을 float으로 변환\n",
    "\n",
    "    # 등급이 P인 경우 계산에서 제외\n",
    "    if grade == 'P':\n",
    "        continue\n",
    "\n",
    "    # 학점 총합에 학점 추가\n",
    "    total_credits += credit\n",
    "\n",
    "    # 학점 * 과목평점을 총합에 추가\n",
    "    total_points += credit * grade_to_point[grade]\n",
    "\n",
    "# 전공평점 계산\n",
    "major_gpa = total_points / total_credits\n",
    "\n",
    "# 결과 출력 (소수점 넷째 자리까지)\n",
    "print(f\"{major_gpa:.4f}\")"
   ]
  },
  {
   "cell_type": "code",
   "execution_count": null,
   "metadata": {},
   "outputs": [],
   "source": [
    "#2566\n",
    "# 9x9 격자판을 입력받습니다.\n",
    "grid = []\n",
    "for _ in range(9):\n",
    "    row = list(map(int, input().split()))\n",
    "    grid.append(row)\n",
    "\n",
    "# 최댓값과 그 위치를 초기화합니다.\n",
    "max_value = -1\n",
    "max_row = -1\n",
    "max_col = -1\n",
    "\n",
    "# 격자판을 순회하면서 최댓값과 위치를 찾습니다.\n",
    "for i in range(9):\n",
    "    for j in range(9):\n",
    "        if grid[i][j] > max_value:\n",
    "            max_value = grid[i][j]\n",
    "            max_row = i + 1\n",
    "            max_col = j + 1\n",
    "\n",
    "# 결과를 출력합니다.\n",
    "print(max_value)\n",
    "print(max_row, max_col)"
   ]
  },
  {
   "cell_type": "code",
   "execution_count": null,
   "metadata": {},
   "outputs": [],
   "source": [
    "#10798 세로읽기\n",
    "# 입력된 다섯 줄의 단어들을 리스트로 저장\n",
    "words = [input().strip() for _ in range(5)]\n",
    "\n",
    "# 세로로 읽은 글자를 저장할 결과 문자열\n",
    "result = []\n",
    "\n",
    "# 최대 15개의 글자까지 존재할 수 있으므로 15번 반복\n",
    "for i in range(15):\n",
    "    for word in words:\n",
    "        if i < len(word):  # 현재 단어의 i번째 글자가 있는 경우에만 추가\n",
    "            result.append(word[i])\n",
    "\n",
    "# 결과 리스트를 문자열로 변환하여 출력\n",
    "print(''.join(result))"
   ]
  },
  {
   "cell_type": "code",
   "execution_count": null,
   "metadata": {},
   "outputs": [],
   "source": [
    "#2563\n",
    "def calculate_black_area(paper_positions):\n",
    "    # 도화지 초기화 (100x100 크기)\n",
    "    canvas = [[0]*100 for _ in range(100)]\n",
    "\n",
    "    # 색종이 붙이기\n",
    "    for x, y in paper_positions:\n",
    "        for i in range(10):\n",
    "            for j in range(10):\n",
    "                canvas[x + i][y + j] = 1\n",
    "\n",
    "    # 검은 영역 넓이 계산\n",
    "    black_area = sum(sum(row) for row in canvas)\n",
    "    return black_area\n",
    "\n",
    "# 입력 받기\n",
    "n = int(input())\n",
    "paper_positions = [tuple(map(int, input().split())) for _ in range(n)]\n",
    "\n",
    "# 검은 영역 넓이 계산\n",
    "black_area = calculate_black_area(paper_positions)\n",
    "\n",
    "# 결과 출력\n",
    "print(black_area)\n",
    "    "
   ]
  },
  {
   "cell_type": "code",
   "execution_count": null,
   "metadata": {},
   "outputs": [],
   "source": [
    "#1010\n",
    "import math\n",
    "\n",
    "def calculate_combinations(n, m):\n",
    "    return math.comb(m, n)\n",
    "\n",
    "def main():\n",
    "    T = int(input().strip())\n",
    "    results = []\n",
    "    for _ in range(T):\n",
    "        N, M = map(int, input().strip().split())\n",
    "        result = calculate_combinations(N, M)\n",
    "        results.append(result)\n",
    "    \n",
    "    for result in results:\n",
    "        print(result)\n",
    "\n",
    "if __name__ == \"__main__\":\n",
    "    main()"
   ]
  },
  {
   "cell_type": "code",
   "execution_count": null,
   "metadata": {},
   "outputs": [],
   "source": [
    "#13458\n",
    "def calculate_min_supervisors(N, A, B, C):\n",
    "    total_supervisors = 0\n",
    "\n",
    "    for students in A:\n",
    "        # 총감독관은 각 시험장에 1명씩 필요\n",
    "        total_supervisors += 1\n",
    "        remaining_students = students - B\n",
    "        \n",
    "        if remaining_students > 0:\n",
    "            # 부감독관이 필요한 경우\n",
    "            total_supervisors += -(-remaining_students // C)  # 올림 계산\n",
    "\n",
    "    return total_supervisors\n",
    "\n",
    "# 입력 처리\n",
    "N = int(input())\n",
    "A = list(map(int, input().split()))\n",
    "B, C = map(int, input().split())\n",
    "\n",
    "# 결과 계산 및 출력\n",
    "result = calculate_min_supervisors(N, A, B, C)\n",
    "print(result)\n"
   ]
  },
  {
   "cell_type": "code",
   "execution_count": 27,
   "metadata": {},
   "outputs": [
    {
     "name": "stdout",
     "output_type": "stream",
     "text": [
      "60466175\n"
     ]
    }
   ],
   "source": [
    "#2745\n",
    "n,b = input().split()\n",
    "b = int(b)\n",
    "n=n\n",
    "A,B,C,D,E,F,G,H,I,J,K,L,M,N,O,P,Q,R,S,T,U,V,W,X,Y,Z = 10,11,12,13,14,15,16,17,18,19,20,21,22,23,24,25,26,27,28,29,30,31,32,33,34,35\n",
    "print(int(n,b))"
   ]
  },
  {
   "cell_type": "code",
   "execution_count": 73,
   "metadata": {},
   "outputs": [
    {
     "name": "stdout",
     "output_type": "stream",
     "text": [
      "ZZZZZ\n"
     ]
    }
   ],
   "source": [
    "\n",
    "#11005\n",
    "# n, b = map(int, input().split())\n",
    "\n",
    "# #진수변환\n",
    "# def solution(n, b):\n",
    "#     rev_base = ''\n",
    "\n",
    "#     while n > 0:\n",
    "#         n, mod = divmod(n, b)\n",
    "#         rev_base += str(mod)\n",
    "\n",
    "#     return rev_base[::-1] \n",
    "#     # 역순인 진수를 뒤집어 줘야 원래 변환 하고자하는 base가 출력\n",
    "\n",
    "# result = str (solution(n,b)[::-1])\n",
    "\n",
    "# v = [result[i:i+2] for i in range(0, len(result),2)]#문자열 2자리씩 나누기\n",
    "# real = []\n",
    "# for a in v:\n",
    "#     a = int(a)\n",
    "#     if a == 10:\n",
    "#         a='A'\n",
    "#     elif a==11:\n",
    "#         a='B'\n",
    "#     elif a==12:\n",
    "#         a='C'\n",
    "#     elif a==13:\n",
    "#         a='D'\n",
    "#     elif a==14:\n",
    "#         a='E'\n",
    "#     elif a==15:\n",
    "#         a='F'\n",
    "#     elif a==16:\n",
    "#         a='G'\n",
    "#     elif a==17:\n",
    "#         a='H'\n",
    "#     elif a==18:\n",
    "#         a='I'\n",
    "#     elif a==19:\n",
    "#         a='J'\n",
    "#     elif a==20:\n",
    "#         a='K'\n",
    "#     elif a==21:\n",
    "#         a='L'\n",
    "#     elif a==22:\n",
    "#         a='M'\n",
    "#     elif a==23:\n",
    "#         a='N'\n",
    "#     elif a==24:\n",
    "#         a='O'\n",
    "#     elif a==25:\n",
    "#         a='P'\n",
    "#     elif a==26:\n",
    "#         a='Q'\n",
    "#     elif a==27:\n",
    "#         a='R'\n",
    "#     elif a==28:\n",
    "#         a='S'\n",
    "#     elif a==29:\n",
    "#         a='T'\n",
    "#     elif a==30:\n",
    "#         a='U'\n",
    "#     elif a==31:\n",
    "#         a='V'\n",
    "#     elif a==32:\n",
    "#         a='W'\n",
    "#     elif a==33:\n",
    "#         a='X'\n",
    "#     elif a==34:\n",
    "#         a='Y'\n",
    "#     elif a==35:\n",
    "#         a='Z'\n",
    "#     real.append(a)\n",
    "\n",
    "# real_answer = ''.join(real)\n",
    "# print(real_answer)\n",
    "#진법은 결국 받은수를 받은 차수로 나누는것\n",
    "\n",
    "def convert_to_base(N, B):\n",
    "    digits = []\n",
    "    while N > 0:\n",
    "        remainder = N % B\n",
    "        if remainder >= 10:\n",
    "            digits.append(chr(55 + remainder))  # 10 이상일 경우 알파벳으로 변환 \n",
    "                                 #유니코드 활용 \n",
    "        else:\n",
    "            digits.append(str(remainder))  # 10 미만일 경우 숫자로 변환\n",
    "        N //= B\n",
    "    return ''.join(digits[::-1])  # 역순으로 변환하여 결과 출력\n",
    "\n",
    "# 입력 받기\n",
    "N, B = map(int, input().split())\n",
    "# 진법 변환 결과 출력\n",
    "print(convert_to_base(N, B))\n"
   ]
  },
  {
   "cell_type": "code",
   "execution_count": null,
   "metadata": {},
   "outputs": [],
   "source": [
    "#2720\n",
    "T = int(input())\n",
    "for _ in range(T):\n",
    "    C = int(input())\n",
    "    if C >= 25:\n",
    "        C = C%25\n",
    "        Q = C//25\n",
    "    elif C >= 10 and C < 25:\n",
    "        C = C%10\n",
    "        D = C//10\n",
    "    elif C >= 5 and C <10:\n",
    "        C = C%5\n",
    "        N = C//5\n",
    "    elif C >= 1 and C < 5:\n",
    "        P = C//1\n",
    "    print(Q,D,N,P)"
   ]
  },
  {
   "cell_type": "code",
   "execution_count": 110,
   "metadata": {},
   "outputs": [
    {
     "name": "stdout",
     "output_type": "stream",
     "text": [
      "    8888888888  888    88888\n",
      "   88     88   88 88   88  88\n",
      "    8888  88  88   88  88888\n",
      "       88 88 888888888 88   88\n",
      "88888888  88 88     88 88    888888\n",
      "\n",
      "88  88  88   888    88888    888888\n",
      "88  88  88  88 88   88  88  88\n",
      "88 8888 88 88   88  88888    8888\n",
      " 888  888 888888888 88  88      88\n",
      "  88  88  88     88 88   88888888\n"
     ]
    }
   ],
   "source": [
    "#9653\n",
    "print(\"    8888888888  888    88888\")\n",
    "print(\"   88     88   88 88   88  88\")\n",
    "print(\"    8888  88  88   88  88888\")\n",
    "print(\"       88 88 888888888 88   88\")\n",
    "print(\"88888888  88 88     88 88    888888\")\n",
    "print('')\n",
    "print(\"88  88  88   888    88888    888888\")\n",
    "print(\"88  88  88  88 88   88  88  88\")\n",
    "print(\"88 8888 88 88   88  88888    8888\")\n",
    "print(\" 888  888 888888888 88  88      88\")\n",
    "print(\"  88  88  88     88 88   88888888\")"
   ]
  },
  {
   "cell_type": "code",
   "execution_count": 111,
   "metadata": {},
   "outputs": [
    {
     "name": "stdout",
     "output_type": "stream",
     "text": [
      "     /~\\\n",
      "    ( oo|\n",
      "    _\\=/_\n",
      "   /  _  \\\n",
      "  //|/.\\|\\\\\n",
      " ||  \\ /  ||\n",
      "============\n",
      "|          |\n",
      "|          |\n",
      "|          |\n"
     ]
    }
   ],
   "source": [
    "#5339\n",
    "print('     /~\\\\')\n",
    "print('    ( oo|')\n",
    "print('    _\\\\=/_')\n",
    "print('   /  _  \\\\')\n",
    "print('  //|/.\\|\\\\\\\\')\n",
    "print(' ||  \\\\ /  ||')\n",
    "print('============')\n",
    "print('|          |')\n",
    "print('|          |')\n",
    "print('|          |')\n"
   ]
  },
  {
   "cell_type": "code",
   "execution_count": 159,
   "metadata": {},
   "outputs": [
    {
     "name": "stdout",
     "output_type": "stream",
     "text": [
      "$80.00\n"
     ]
    }
   ],
   "source": [
    "#10179\n",
    "import math\n",
    "T = int(input())\n",
    "for _ in range(T):\n",
    "    N= float(input())\n",
    "    answer = round(N-(N*0.2),2)\n",
    "    print(f'${answer:.2f}')\n",
    "    #소수점 자리 제한 0에 관련해서 자동 소거되는듯,.,?"
   ]
  },
  {
   "cell_type": "code",
   "execution_count": 171,
   "metadata": {},
   "outputs": [
    {
     "name": "stdout",
     "output_type": "stream",
     "text": [
      "@@@\n",
      "@@@\n",
      "@@@\n",
      "@@@\n",
      "@@@\n",
      "@@@\n",
      "@@@\n",
      "@@@\n",
      "@@@\n",
      "@@@\n",
      "@@@\n",
      "@@@\n",
      "@@@@@@@@@@@@@@@\n",
      "@@@@@@@@@@@@@@@\n",
      "@@@@@@@@@@@@@@@\n"
     ]
    }
   ],
   "source": [
    "#23803\n",
    "N = int(input())\n",
    "for i in range(N*5):\n",
    "    if i >= N*5-N:\n",
    "        print('@'*N*5)\n",
    "    else:\n",
    "        print('@'*N)"
   ]
  },
  {
   "cell_type": "code",
   "execution_count": 368,
   "metadata": {},
   "outputs": [
    {
     "name": "stdout",
     "output_type": "stream",
     "text": [
      "[[1, 1, 0], [1, 0, 0]]\n",
      "1\n",
      "1\n",
      "2\n",
      "1\n"
     ]
    }
   ],
   "source": [
    "#28214\n",
    "N,K,P = map(int,input().split())\n",
    "S = list(map(int, input().split()))\n",
    "RN = [S[i * K:(i + 1) * K] for i in range((len(S) + K - 1) // K )]\n",
    "answer = 0\n",
    "count = 0\n",
    "for a in RN:\n",
    "    count = 0\n",
    "    for v in range(K):\n",
    "        if a[v] == 0:\n",
    "            count += 1\n",
    "    if count < P:\n",
    "        answer += 1\n",
    "print(answer)"
   ]
  },
  {
   "cell_type": "code",
   "execution_count": 219,
   "metadata": {},
   "outputs": [
    {
     "name": "stdout",
     "output_type": "stream",
     "text": [
      "1\n",
      "2\n",
      "3\n",
      "4\n",
      "5\n"
     ]
    }
   ],
   "source": [
    "#2741\n",
    "N = int(input())\n",
    "for i in range(N):\n",
    "    print(i+1)"
   ]
  },
  {
   "cell_type": "code",
   "execution_count": 307,
   "metadata": {},
   "outputs": [
    {
     "name": "stdout",
     "output_type": "stream",
     "text": [
      "20 11 30\n"
     ]
    }
   ],
   "source": [
    "#2530\n",
    "A,B,C = map(int,input().split())\n",
    "D = int(input())\n",
    "C = C+(B*60)+(A*60*60)\n",
    "time = C+D\n",
    "second = time%60\n",
    "minute = (time//60)%60\n",
    "hour = time//60//60\n",
    "if hour >= 24:\n",
    "    time = (hour//24)*60*60\n",
    "    second = second+(time%60)\n",
    "    minute = minute+((time//60)%60)\n",
    "    hour = hour%24\n",
    "print(hour,minute,second)"
   ]
  },
  {
   "cell_type": "code",
   "execution_count": 318,
   "metadata": {},
   "outputs": [
    {
     "name": "stdout",
     "output_type": "stream",
     "text": [
      "9000\n"
     ]
    }
   ],
   "source": [
    "#15080\n",
    "start_time = list(map(int,input().split(' : ')))\n",
    "end_time = list(map(int,input().split(' : ')))\n",
    "sts = (start_time[0]*60*60)+(start_time[1]*60)+start_time[2]\n",
    "ets = (end_time[0]*60*60)+(end_time[1]*60)+end_time[2]\n",
    "answer = ets-sts\n",
    "if answer < 0:\n",
    "    answer += 86400\n",
    "print(answer)"
   ]
  },
  {
   "cell_type": "code",
   "execution_count": null,
   "metadata": {},
   "outputs": [],
   "source": [
    "#25932\n",
    "Test_Number = int(input())\n",
    "for _ in range(Test_Number):\n",
    "    N = list(input().split())\n",
    "    answer = 0\n",
    "    for i in N:\n",
    "        if i=='18' :\n",
    "            answer += 2\n",
    "        elif i=='17':\n",
    "            answer += 1\n",
    "        else :\n",
    "            answer += 0\n",
    "    if answer == 0:\n",
    "        print(' '.join(N))\n",
    "        print('none\\n')\n",
    "        \n",
    "    elif answer == 1:\n",
    "        print(' '.join(N))\n",
    "        print('zack\\n')\n",
    "        \n",
    "    elif answer == 2:\n",
    "        print(' '.join(N))\n",
    "        print('mack\\n')\n",
    "        \n",
    "    elif answer == 3:\n",
    "        print(' '.join(N))\n",
    "        print('both\\n')"
   ]
  },
  {
   "cell_type": "code",
   "execution_count": 340,
   "metadata": {},
   "outputs": [
    {
     "name": "stdout",
     "output_type": "stream",
     "text": [
      "256\n",
      "41\n"
     ]
    }
   ],
   "source": [
    "#2576\n",
    "L = []\n",
    "LL = []\n",
    "for _ in range(7):\n",
    "    N = int(input())\n",
    "    if N%2==1:\n",
    "        LL.append(N)\n",
    "    else:\n",
    "        L.append(N)\n",
    "if len(LL) == 0:\n",
    "    print(-1)\n",
    "else:\n",
    "    print(sum(LL))\n",
    "    print(min(LL))"
   ]
  },
  {
   "cell_type": "code",
   "execution_count": 363,
   "metadata": {},
   "outputs": [
    {
     "name": "stdout",
     "output_type": "stream",
     "text": [
      "Battle 1: Evil enradicates all trace of Good\n",
      "Battle 2: Good triumphs over Evil\n",
      "Battle 3: No victor on this battle field\n"
     ]
    }
   ],
   "source": [
    "#4435\n",
    "T = int(input())\n",
    "GG = [1,2,3,3,4,10]\n",
    "SS = [1,2,2,2,3,5,10]\n",
    "for a in range(T):\n",
    "    NG = 0\n",
    "    NS = 0\n",
    "    G = list(map(int,input().split()))\n",
    "    S = list(map(int,input().split()))\n",
    "    for g in range(len(G)):\n",
    "        NG += G[g]*GG[g]\n",
    "    for s in range(len(S)):\n",
    "        NS += S[s]*SS[s]\n",
    "    a=a+1\n",
    "    if NG > NS :\n",
    "        print('Battle %d: Good triumphs over Evil'%a)\n",
    "    elif NG < NS:\n",
    "        print('Battle %d: Evil eradicates all trace of Good'%a)\n",
    "    elif NG==NS:\n",
    "        print('Battle %d: No victor on this battle field'%a)\n",
    "    "
   ]
  },
  {
   "cell_type": "code",
   "execution_count": 8,
   "metadata": {},
   "outputs": [
    {
     "name": "stdout",
     "output_type": "stream",
     "text": [
      "7\n"
     ]
    }
   ],
   "source": [
    "#30957\n",
    "# N = int(input())\n",
    "SR = input()\n",
    "B=SR.count('B')\n",
    "S=SR.count('S')\n",
    "A=SR.count('A')\n",
    "LL=[B,S,A]\n",
    "print(max(LL))"
   ]
  },
  {
   "cell_type": "code",
   "execution_count": null,
   "metadata": {},
   "outputs": [],
   "source": []
  }
 ],
 "metadata": {
  "kernelspec": {
   "display_name": "Python 3",
   "language": "python",
   "name": "python3"
  },
  "language_info": {
   "codemirror_mode": {
    "name": "ipython",
    "version": 3
   },
   "file_extension": ".py",
   "mimetype": "text/x-python",
   "name": "python",
   "nbconvert_exporter": "python",
   "pygments_lexer": "ipython3",
   "version": "3.11.5"
  },
  "orig_nbformat": 4
 },
 "nbformat": 4,
 "nbformat_minor": 2
}
