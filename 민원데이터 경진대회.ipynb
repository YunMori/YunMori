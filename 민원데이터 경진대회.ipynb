{
 "cells": [
  {
   "cell_type": "code",
   "execution_count": 3,
   "metadata": {},
   "outputs": [],
   "source": [
    "import requests\n",
    "import pandas as pd"
   ]
  },
  {
   "cell_type": "code",
   "execution_count": 11,
   "metadata": {},
   "outputs": [
    {
     "data": {
      "text/plain": [
       "<bound method NDFrame.sample of               발생일         위도          경도\n",
       "0      2022-12-31  37.564914  126.927373\n",
       "1      2022-12-31  35.511526  129.424473\n",
       "2      2022-12-31  37.396434  126.961077\n",
       "3      2022-12-31  37.496975  126.883361\n",
       "4      2022-12-31  34.759205  127.710926\n",
       "...           ...        ...         ...\n",
       "66014  2022-01-10  38.191803  128.579178\n",
       "66015  2022-01-10  35.126899  126.789615\n",
       "66016  2022-01-10  37.259304  127.104538\n",
       "66017  2022-01-10  37.466927  126.896164\n",
       "66018  2022-01-10  35.163863  128.126226\n",
       "\n",
       "[66019 rows x 3 columns]>"
      ]
     },
     "execution_count": 11,
     "metadata": {},
     "output_type": "execute_result"
    }
   ],
   "source": [
    "data = pd.read_excel('C:/Users/sbok1/project/YunMori/제3회민원데이터분석경진대회_모의데이터/신호위반.xlsx')\n",
    "data.sample"
   ]
  },
  {
   "cell_type": "code",
   "execution_count": 12,
   "metadata": {},
   "outputs": [
    {
     "name": "stderr",
     "output_type": "stream",
     "text": [
      "C:\\Users\\sbok1\\AppData\\Local\\Temp\\ipykernel_26020\\4214527389.py:25: FutureWarning: Setting an item of incompatible dtype is deprecated and will raise in a future error of pandas. Value '서울특별시 서대문구 연희동 ' has dtype incompatible with float64, please explicitly cast to a compatible dtype first.\n",
      "  df.at[index, '주소'] = result['results'][0]['region']['area1']['name'] + \" \" + result['results'][0]['region']['area2']['name'] + \" \" + result['results'][0]['region']['area3']['name'] + \" \" + result['results'][0]['region']['area4']['name']\n"
     ]
    }
   ],
   "source": [
    "client_id = \"up5c0qo9hc\"\n",
    "client_secret = \"LrXSvbzwBJhwPKeLoCGRFcloNiGIH6AleKA98ltq\"\n",
    "\n",
    "excel_file = 'C:/Users/sbok1/project/YunMori/제3회민원데이터분석경진대회_모의데이터/신호위반.xlsx'\n",
    "\n",
    "df = pd.read_excel(excel_file)\n",
    "\n",
    "for index, row in df.iterrows():\n",
    "    longitude = row['경도']  \n",
    "    latitude = row['위도']    \n",
    "\n",
    "    coords = f\"{longitude},{latitude}\"\n",
    "    output = \"json\"\n",
    "    orders = 'legalcode,admcode,addr,roadaddr'\n",
    "    endpoint = \"https://naveropenapi.apigw.ntruss.com/map-reversegeocode/v2/gc\"\n",
    "    url = f\"{endpoint}?coords={coords}&output={output}&orders={orders}\"\n",
    "\n",
    "    headers = {\n",
    "        \"X-NCP-APIGW-API-KEY-ID\": client_id,\n",
    "        \"X-NCP-APIGW-API-KEY\": client_secret,\n",
    "    }\n",
    "    \n",
    "    res = requests.get(url, headers=headers)\n",
    "    result = res.json()\n",
    "    df.at[index, '주소'] = result['results'][0]['region']['area1']['name'] + \" \" + result['results'][0]['region']['area2']['name'] + \" \" + result['results'][0]['region']['area3']['name'] + \" \" + result['results'][0]['region']['area4']['name']\n",
    "\n",
    "df.to_excel(\"신호위반_revers.xlsx\", index=False)"
   ]
  },
  {
   "cell_type": "code",
   "execution_count": null,
   "metadata": {},
   "outputs": [],
   "source": []
  }
 ],
 "metadata": {
  "kernelspec": {
   "display_name": "Python 3",
   "language": "python",
   "name": "python3"
  },
  "language_info": {
   "codemirror_mode": {
    "name": "ipython",
    "version": 3
   },
   "file_extension": ".py",
   "mimetype": "text/x-python",
   "name": "python",
   "nbconvert_exporter": "python",
   "pygments_lexer": "ipython3",
   "version": "3.9.13"
  }
 },
 "nbformat": 4,
 "nbformat_minor": 2
}
